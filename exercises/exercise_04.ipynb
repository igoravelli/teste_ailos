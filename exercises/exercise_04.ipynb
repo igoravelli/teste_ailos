{
 "cells": [
  {
   "cell_type": "code",
   "execution_count": 1,
   "metadata": {},
   "outputs": [],
   "source": [
    "import pandas as pd\n",
    "import numpy as np\n",
    "from statistics import mode\n",
    "import scipy.stats as st\n",
    "import sqlite3\n",
    "import matplotlib\n",
    "from datetime import date"
   ]
  },
  {
   "cell_type": "code",
   "execution_count": 2,
   "metadata": {},
   "outputs": [
    {
     "name": "stdout",
     "output_type": "stream",
     "text": [
      "<class 'str'>\n"
     ]
    },
    {
     "name": "stderr",
     "output_type": "stream",
     "text": [
      "/tmp/ipykernel_54686/3054090517.py:3: FutureWarning: The default value of regex will change from True to False in a future version. In addition, single character regular expressions will *not* be treated as literal strings when regex=True.\n",
      "  base_originacao.VLCONTRATO = base_originacao.VLCONTRATO.str.replace('.', '').str.replace(',', '.').apply(lambda x: float(x))\n",
      "/tmp/ipykernel_54686/3054090517.py:4: FutureWarning: The default value of regex will change from True to False in a future version. In addition, single character regular expressions will *not* be treated as literal strings when regex=True.\n",
      "  base_originacao.VLPARCELA = base_originacao.VLPARCELA.str.replace('.', '').str.replace(',', '.').apply(lambda x: float(x))\n",
      "/tmp/ipykernel_54686/3054090517.py:6: FutureWarning: The default value of regex will change from True to False in a future version. In addition, single character regular expressions will *not* be treated as literal strings when regex=True.\n",
      "  base_carteira.VLCONTRATO = base_carteira.VLCONTRATO.str.replace('.', '').str.replace(',', '.').apply(lambda x: float(x))\n",
      "/tmp/ipykernel_54686/3054090517.py:7: FutureWarning: The default value of regex will change from True to False in a future version. In addition, single character regular expressions will *not* be treated as literal strings when regex=True.\n",
      "  base_carteira.SDDEVEDOR = base_carteira.SDDEVEDOR.str.replace('.', '').str.replace(',', '.').apply(lambda x: float(x))\n",
      "/tmp/ipykernel_54686/3054090517.py:8: FutureWarning: The default value of regex will change from True to False in a future version. In addition, single character regular expressions will *not* be treated as literal strings when regex=True.\n",
      "  base_carteira.SDATRASO = base_carteira.SDATRASO.str.replace('.', '').str.replace(',', '.').apply(lambda x: float(x))\n",
      "/tmp/ipykernel_54686/3054090517.py:9: FutureWarning: The default value of regex will change from True to False in a future version. In addition, single character regular expressions will *not* be treated as literal strings when regex=True.\n",
      "  base_carteira.VLPROVISAO = base_carteira.VLPROVISAO.str.replace('.', '').str.replace(',', '.').apply(lambda x: float(x))\n"
     ]
    }
   ],
   "source": [
    "%run ./transform_and_create_tables.ipynb"
   ]
  },
  {
   "cell_type": "code",
   "execution_count": 3,
   "metadata": {},
   "outputs": [],
   "source": [
    "conn = sqlite3.connect('teste_ailos.db')\n",
    "\n",
    "base_originacao = pd.read_sql_query(\"SELECT * FROM base_originacao\", conn)\n",
    "base_carteira = pd.read_sql_query(\"SELECT * FROM base_carteira\", conn)"
   ]
  },
  {
   "cell_type": "code",
   "execution_count": 4,
   "metadata": {},
   "outputs": [],
   "source": [
    "%reload_ext sql\n",
    "%sql sqlite:///teste_ailos.db"
   ]
  },
  {
   "cell_type": "markdown",
   "metadata": {},
   "source": [
    "# RESOLUÇÃO DO EXERCÍCIO EM SQL\n",
    "Em uma visão mensal (DTBASE), para o atributo QTPARCELAS, crie uma tabela contendo a Moda, e para o atributo SDDEVEDOR obtenha a Média e o Intervalo de Confiança para a média com nível de 99%. \n",
    "Unifique os resultados em uma única tabela. Além, escolha um mês para interpretar os resultados"
   ]
  },
  {
   "cell_type": "code",
   "execution_count": 5,
   "metadata": {},
   "outputs": [
    {
     "name": "stdout",
     "output_type": "stream",
     "text": [
      " * sqlite:///teste_ailos.db\n",
      "Done.\n"
     ]
    },
    {
     "data": {
      "text/html": [
       "<table>\n",
       "    <tr>\n",
       "        <th>DTBASE</th>\n",
       "        <th>mode_qt_parcelas</th>\n",
       "        <th>avg_sddev</th>\n",
       "        <th>high_confidence_level</th>\n",
       "        <th>low_confidence_level</th>\n",
       "    </tr>\n",
       "    <tr>\n",
       "        <td>2021-01-31</td>\n",
       "        <td>48.0</td>\n",
       "        <td>3965.1038703870418</td>\n",
       "        <td>4301.612151160229</td>\n",
       "        <td>3628.5955896138544</td>\n",
       "    </tr>\n",
       "    <tr>\n",
       "        <td>2021-02-28</td>\n",
       "        <td>48.0</td>\n",
       "        <td>3916.8703659268176</td>\n",
       "        <td>4219.036686650078</td>\n",
       "        <td>3614.704045203557</td>\n",
       "    </tr>\n",
       "    <tr>\n",
       "        <td>2021-03-31</td>\n",
       "        <td>48.0</td>\n",
       "        <td>3998.24128924701</td>\n",
       "        <td>4317.287272394661</td>\n",
       "        <td>3679.195306099359</td>\n",
       "    </tr>\n",
       "    <tr>\n",
       "        <td>2021-04-30</td>\n",
       "        <td>48.0</td>\n",
       "        <td>4098.543952483807</td>\n",
       "        <td>4435.474494097745</td>\n",
       "        <td>3761.613410869868</td>\n",
       "    </tr>\n",
       "    <tr>\n",
       "        <td>2021-05-31</td>\n",
       "        <td>48.0</td>\n",
       "        <td>4201.739054290721</td>\n",
       "        <td>5100.172715411477</td>\n",
       "        <td>3303.305393169964</td>\n",
       "    </tr>\n",
       "    <tr>\n",
       "        <td>2021-06-30</td>\n",
       "        <td>48.0</td>\n",
       "        <td>3970.6324655436356</td>\n",
       "        <td>4267.655248964635</td>\n",
       "        <td>3673.609682122636</td>\n",
       "    </tr>\n",
       "    <tr>\n",
       "        <td>2021-07-31</td>\n",
       "        <td>48.0</td>\n",
       "        <td>4180.992969334332</td>\n",
       "        <td>4525.476433023418</td>\n",
       "        <td>3836.5095056452456</td>\n",
       "    </tr>\n",
       "    <tr>\n",
       "        <td>2021-08-31</td>\n",
       "        <td>48.0</td>\n",
       "        <td>4184.65462490896</td>\n",
       "        <td>4522.139059622434</td>\n",
       "        <td>3847.170190195486</td>\n",
       "    </tr>\n",
       "    <tr>\n",
       "        <td>2021-09-30</td>\n",
       "        <td>48.0</td>\n",
       "        <td>4043.0856016693765</td>\n",
       "        <td>4366.361737179563</td>\n",
       "        <td>3719.8094661591904</td>\n",
       "    </tr>\n",
       "    <tr>\n",
       "        <td>2021-10-31</td>\n",
       "        <td>48.0</td>\n",
       "        <td>4073.589897610925</td>\n",
       "        <td>4421.320984047879</td>\n",
       "        <td>3725.858811173971</td>\n",
       "    </tr>\n",
       "    <tr>\n",
       "        <td>2021-11-30</td>\n",
       "        <td>48.0</td>\n",
       "        <td>4055.3061290322516</td>\n",
       "        <td>4411.581317448487</td>\n",
       "        <td>3699.030940616016</td>\n",
       "    </tr>\n",
       "    <tr>\n",
       "        <td>2021-12-31</td>\n",
       "        <td>48.0</td>\n",
       "        <td>3875.356521739135</td>\n",
       "        <td>4212.278161544472</td>\n",
       "        <td>3538.434881933799</td>\n",
       "    </tr>\n",
       "</table>"
      ],
      "text/plain": [
       "[('2021-01-31', 48.0, 3965.1038703870418, 4301.612151160229, 3628.5955896138544),\n",
       " ('2021-02-28', 48.0, 3916.8703659268176, 4219.036686650078, 3614.704045203557),\n",
       " ('2021-03-31', 48.0, 3998.24128924701, 4317.287272394661, 3679.195306099359),\n",
       " ('2021-04-30', 48.0, 4098.543952483807, 4435.474494097745, 3761.613410869868),\n",
       " ('2021-05-31', 48.0, 4201.739054290721, 5100.172715411477, 3303.305393169964),\n",
       " ('2021-06-30', 48.0, 3970.6324655436356, 4267.655248964635, 3673.609682122636),\n",
       " ('2021-07-31', 48.0, 4180.992969334332, 4525.476433023418, 3836.5095056452456),\n",
       " ('2021-08-31', 48.0, 4184.65462490896, 4522.139059622434, 3847.170190195486),\n",
       " ('2021-09-30', 48.0, 4043.0856016693765, 4366.361737179563, 3719.8094661591904),\n",
       " ('2021-10-31', 48.0, 4073.589897610925, 4421.320984047879, 3725.858811173971),\n",
       " ('2021-11-30', 48.0, 4055.3061290322516, 4411.581317448487, 3699.030940616016),\n",
       " ('2021-12-31', 48.0, 3875.356521739135, 4212.278161544472, 3538.434881933799)]"
      ]
     },
     "execution_count": 5,
     "metadata": {},
     "output_type": "execute_result"
    }
   ],
   "source": [
    "%%sql\n",
    "with all_data as (\n",
    "    select \n",
    "        date(DTBASE) as DTBASE\n",
    "        ,bc.SDDEVEDOR\n",
    "        ,bo.QTPARCELAS\n",
    "    from \n",
    "        base_carteira bc\n",
    "    inner join \n",
    "        base_originacao bo \n",
    "            on bc.CONTRATO = bo.CONTRATO\n",
    "            and bc.CPF = bo.CPF\n",
    "            and bc.CONTA = bo.CONTA\n",
    "            and bc.COOPERATIVA = bo.COOPERATIVA\n",
    "            and bc.DTCONTRATO = bo.DTCONTRATO\n",
    "            and bc.VLCONTRATO = bo.VLCONTRATO\n",
    "    order by \n",
    "        date(DTBASE) asc\n",
    "),\n",
    "\n",
    "sizes as (\n",
    "    select \n",
    "        DTBASE\n",
    "        ,count(*) as size\n",
    "    from \n",
    "        all_data \n",
    "    group by \n",
    "        DTBASE\n",
    "),\n",
    "\n",
    "averages as (\n",
    "    select \n",
    "        DTBASE\n",
    "        ,avg(SDDEVEDOR) as avg\n",
    "    from \n",
    "        all_data\n",
    "    group by \n",
    "        DTBASE\n",
    "),\n",
    "\n",
    "stds as (\n",
    "    select \n",
    "        DTBASE\n",
    "        ,size\n",
    "        ,sqrt(sum(prep_std) / size) as std\n",
    "    from \n",
    "    (\n",
    "        select \n",
    "            all_data.DTBASE\n",
    "            ,SDDEVEDOR\n",
    "            ,avg \n",
    "            ,size\n",
    "            ,power(SDDEVEDOR - avg, 2) prep_std\n",
    "        from \n",
    "            all_data\n",
    "        inner join \n",
    "            averages\n",
    "                on all_data.DTBASE = averages.DTBASE\n",
    "        inner join \n",
    "            sizes\n",
    "                on all_data.DTBASE = sizes.DTBASE\n",
    "    ) x\n",
    "    group by \n",
    "        DTBASE\n",
    "),\n",
    "\n",
    "ranking_qtparcelas as (\n",
    "    select \n",
    "        DTBASE\n",
    "        ,QTPARCELAS\n",
    "        ,Qnt\n",
    "        ,dense_rank() over(partition by DTBASE order by Qnt desc) as rnk\n",
    "    from \n",
    "    (\n",
    "        select \n",
    "            DTBASE\n",
    "            ,QTPARCELAS\n",
    "            ,count(*) as Qnt\n",
    "        from\n",
    "            all_data \n",
    "        group by \n",
    "            DTBASE\n",
    "            ,QTPARCELAS\n",
    "        order by\n",
    "            DTBASE\n",
    "            ,3 desc\n",
    "    ) x\n",
    ")\n",
    "\n",
    "select \n",
    "    averages.DTBASE\n",
    "--  ,sizes.size\n",
    "--  ,stds.std\n",
    "    ,ranking_qtparcelas.QTPARCELAS as mode_qt_parcelas\n",
    "    ,averages.avg as avg_sddev\n",
    "    ,averages.avg + (2.57583 * (stds.std/sqrt(sizes.size))) as high_confidence_level\n",
    "    ,averages.avg - (2.57583 * (stds.std/sqrt(sizes.size))) as low_confidence_level\n",
    "from \n",
    "    averages\n",
    "inner join \n",
    "    sizes\n",
    "        on averages.DTBASE = sizes.DTBASE\n",
    "inner join \n",
    "    stds\n",
    "        on averages.DTBASE = stds.DTBASE\n",
    "inner join \n",
    "    ranking_qtparcelas\n",
    "        on ranking_qtparcelas.DTBASE = averages.DTBASE\n",
    "where\n",
    "    ranking_qtparcelas.rnk = 1\n",
    "group by \n",
    "    averages.DTBASE"
   ]
  },
  {
   "cell_type": "markdown",
   "metadata": {},
   "source": [
    "# RESOLUÇÃO DO EXERCÍCIO EM PYTHON\n",
    "Em uma visão mensal (DTBASE), para o atributo QTPARCELAS, crie uma tabela contendo a Moda, e para o atributo SDDEVEDOR obtenha a Média e o Intervalo de Confiança para a média com nível de 99%. \n",
    "Unifique os resultados em uma única tabela. Além, escolha um mês para interpretar os resultados"
   ]
  },
  {
   "cell_type": "code",
   "execution_count": 6,
   "metadata": {},
   "outputs": [],
   "source": [
    "all_data = base_carteira.merge(base_originacao[['CONTRATO', 'CPF', 'CONTA', 'COOPERATIVA', 'DTCONTRATO', 'VLCONTRATO', 'QTPARCELAS']], how='inner', on=['CONTRATO', 'CPF', 'CONTA', 'COOPERATIVA', 'DTCONTRATO', 'VLCONTRATO'])\n",
    "\n",
    "z_value = 2.57583\n",
    "\n",
    "\n",
    "all_data = all_data[['DTBASE', 'QTPARCELAS', 'SDDEVEDOR', 'CONTRATO']]"
   ]
  },
  {
   "cell_type": "code",
   "execution_count": 7,
   "metadata": {},
   "outputs": [],
   "source": [
    "def get_confidence_level(avg, z, s, size):\n",
    "    high_level = avg + z * (s / np.sqrt(size))\n",
    "    low_level = avg - z * (s / np.sqrt(size))\n",
    "\n",
    "    return (high_level, low_level)"
   ]
  },
  {
   "cell_type": "code",
   "execution_count": 8,
   "metadata": {},
   "outputs": [],
   "source": [
    "consol_table = all_data.groupby('DTBASE').agg(\n",
    "                                avg_sddev=('SDDEVEDOR', 'mean'), \n",
    "                                mode_qt_parcelas=('QTPARCELAS', mode),\n",
    "                                std_sddev=('SDDEVEDOR', 'std'),\n",
    "                                qnt=('CONTRATO', 'count')).reset_index()"
   ]
  },
  {
   "cell_type": "code",
   "execution_count": 9,
   "metadata": {},
   "outputs": [],
   "source": [
    "consol_table['low_confidence_level'] = consol_table.apply(lambda x: get_confidence_level(avg=x.avg_sddev, z=z_value, s=x.std_sddev, size=x.qnt)[1], axis=1)\n",
    "consol_table['high_confidence_level'] = consol_table.apply(lambda x: get_confidence_level(avg=x.avg_sddev, z=z_value, s=x.std_sddev, size=x.qnt)[0], axis=1)"
   ]
  },
  {
   "cell_type": "code",
   "execution_count": 10,
   "metadata": {},
   "outputs": [],
   "source": [
    "final_tb = consol_table[['DTBASE', 'mode_qt_parcelas', 'avg_sddev', 'high_confidence_level', 'low_confidence_level']]"
   ]
  },
  {
   "cell_type": "code",
   "execution_count": 11,
   "metadata": {},
   "outputs": [
    {
     "data": {
      "text/html": [
       "<div>\n",
       "<style scoped>\n",
       "    .dataframe tbody tr th:only-of-type {\n",
       "        vertical-align: middle;\n",
       "    }\n",
       "\n",
       "    .dataframe tbody tr th {\n",
       "        vertical-align: top;\n",
       "    }\n",
       "\n",
       "    .dataframe thead th {\n",
       "        text-align: right;\n",
       "    }\n",
       "</style>\n",
       "<table border=\"1\" class=\"dataframe\">\n",
       "  <thead>\n",
       "    <tr style=\"text-align: right;\">\n",
       "      <th></th>\n",
       "      <th>DTBASE</th>\n",
       "      <th>mode_qt_parcelas</th>\n",
       "      <th>avg_sddev</th>\n",
       "      <th>high_confidence_level</th>\n",
       "      <th>low_confidence_level</th>\n",
       "    </tr>\n",
       "  </thead>\n",
       "  <tbody>\n",
       "    <tr>\n",
       "      <th>0</th>\n",
       "      <td>2021-01-31 00:00:00</td>\n",
       "      <td>48.0</td>\n",
       "      <td>3965.103870</td>\n",
       "      <td>4301.662644</td>\n",
       "      <td>3628.545097</td>\n",
       "    </tr>\n",
       "    <tr>\n",
       "      <th>1</th>\n",
       "      <td>2021-02-28 00:00:00</td>\n",
       "      <td>48.0</td>\n",
       "      <td>3916.870366</td>\n",
       "      <td>4219.082013</td>\n",
       "      <td>3614.658719</td>\n",
       "    </tr>\n",
       "    <tr>\n",
       "      <th>2</th>\n",
       "      <td>2021-03-31 00:00:00</td>\n",
       "      <td>48.0</td>\n",
       "      <td>3998.241289</td>\n",
       "      <td>4317.331606</td>\n",
       "      <td>3679.150973</td>\n",
       "    </tr>\n",
       "    <tr>\n",
       "      <th>3</th>\n",
       "      <td>2021-04-30 00:00:00</td>\n",
       "      <td>48.0</td>\n",
       "      <td>4098.543952</td>\n",
       "      <td>4435.519985</td>\n",
       "      <td>3761.567920</td>\n",
       "    </tr>\n",
       "    <tr>\n",
       "      <th>4</th>\n",
       "      <td>2021-05-31 00:00:00</td>\n",
       "      <td>48.0</td>\n",
       "      <td>4201.739054</td>\n",
       "      <td>5100.960470</td>\n",
       "      <td>3302.517639</td>\n",
       "    </tr>\n",
       "    <tr>\n",
       "      <th>5</th>\n",
       "      <td>2021-06-30 00:00:00</td>\n",
       "      <td>48.0</td>\n",
       "      <td>3970.632466</td>\n",
       "      <td>4267.693161</td>\n",
       "      <td>3673.571770</td>\n",
       "    </tr>\n",
       "    <tr>\n",
       "      <th>6</th>\n",
       "      <td>2021-07-31 00:00:00</td>\n",
       "      <td>48.0</td>\n",
       "      <td>4180.992969</td>\n",
       "      <td>4525.519383</td>\n",
       "      <td>3836.466555</td>\n",
       "    </tr>\n",
       "    <tr>\n",
       "      <th>7</th>\n",
       "      <td>2021-08-31 00:00:00</td>\n",
       "      <td>48.0</td>\n",
       "      <td>4184.654625</td>\n",
       "      <td>4522.180034</td>\n",
       "      <td>3847.129216</td>\n",
       "    </tr>\n",
       "    <tr>\n",
       "      <th>8</th>\n",
       "      <td>2021-09-30 00:00:00</td>\n",
       "      <td>48.0</td>\n",
       "      <td>4043.085602</td>\n",
       "      <td>4366.399221</td>\n",
       "      <td>3719.771983</td>\n",
       "    </tr>\n",
       "    <tr>\n",
       "      <th>9</th>\n",
       "      <td>2021-10-31 00:00:00</td>\n",
       "      <td>48.0</td>\n",
       "      <td>4073.589898</td>\n",
       "      <td>4421.360551</td>\n",
       "      <td>3725.819245</td>\n",
       "    </tr>\n",
       "    <tr>\n",
       "      <th>10</th>\n",
       "      <td>2021-11-30 00:00:00</td>\n",
       "      <td>48.0</td>\n",
       "      <td>4055.306129</td>\n",
       "      <td>4411.622370</td>\n",
       "      <td>3698.989888</td>\n",
       "    </tr>\n",
       "    <tr>\n",
       "      <th>11</th>\n",
       "      <td>2021-12-31 00:00:00</td>\n",
       "      <td>48.0</td>\n",
       "      <td>3875.356522</td>\n",
       "      <td>4212.314071</td>\n",
       "      <td>3538.398972</td>\n",
       "    </tr>\n",
       "  </tbody>\n",
       "</table>\n",
       "</div>"
      ],
      "text/plain": [
       "                 DTBASE  mode_qt_parcelas    avg_sddev  high_confidence_level  \\\n",
       "0   2021-01-31 00:00:00              48.0  3965.103870            4301.662644   \n",
       "1   2021-02-28 00:00:00              48.0  3916.870366            4219.082013   \n",
       "2   2021-03-31 00:00:00              48.0  3998.241289            4317.331606   \n",
       "3   2021-04-30 00:00:00              48.0  4098.543952            4435.519985   \n",
       "4   2021-05-31 00:00:00              48.0  4201.739054            5100.960470   \n",
       "5   2021-06-30 00:00:00              48.0  3970.632466            4267.693161   \n",
       "6   2021-07-31 00:00:00              48.0  4180.992969            4525.519383   \n",
       "7   2021-08-31 00:00:00              48.0  4184.654625            4522.180034   \n",
       "8   2021-09-30 00:00:00              48.0  4043.085602            4366.399221   \n",
       "9   2021-10-31 00:00:00              48.0  4073.589898            4421.360551   \n",
       "10  2021-11-30 00:00:00              48.0  4055.306129            4411.622370   \n",
       "11  2021-12-31 00:00:00              48.0  3875.356522            4212.314071   \n",
       "\n",
       "    low_confidence_level  \n",
       "0            3628.545097  \n",
       "1            3614.658719  \n",
       "2            3679.150973  \n",
       "3            3761.567920  \n",
       "4            3302.517639  \n",
       "5            3673.571770  \n",
       "6            3836.466555  \n",
       "7            3847.129216  \n",
       "8            3719.771983  \n",
       "9            3725.819245  \n",
       "10           3698.989888  \n",
       "11           3538.398972  "
      ]
     },
     "execution_count": 11,
     "metadata": {},
     "output_type": "execute_result"
    }
   ],
   "source": [
    "final_tb"
   ]
  },
  {
   "cell_type": "markdown",
   "metadata": {},
   "source": [
    "### Interpretação dos resultados\n",
    "\n",
    "Como analisamos os dados com uma amostra de toda a população de empréstimos e financiamentos, para determinarmos a média do saldo devedor de toda a população, inferimos esses valores usando o intervalo de confiança para média, onde, para um determinado valor de confiança, teremos uma \"banda\" da valores que nos sinaliza o intervalo em que a média de toda a população pode estar inserida.\n",
    "\n",
    "Para exemplificar, **isolando o mês de Janeiro** podemos inferir que, para um intervalo de confiança de 99%, é plausível que a média do saldo devedor de toda a população de empréstimos esteja situada entre 4301,66 e 3628,54. "
   ]
  },
  {
   "cell_type": "code",
   "execution_count": 12,
   "metadata": {},
   "outputs": [],
   "source": [
    "final_tb.set_index('DTBASE', inplace=True)"
   ]
  },
  {
   "cell_type": "code",
   "execution_count": 13,
   "metadata": {},
   "outputs": [
    {
     "data": {
      "text/plain": [
       "<AxesSubplot:xlabel='DTBASE'>"
      ]
     },
     "execution_count": 13,
     "metadata": {},
     "output_type": "execute_result"
    },
    {
     "data": {
      "image/png": "[encoded data removed]",
      "text/plain": [
       "<Figure size 1440x720 with 1 Axes>"
      ]
     },
     "metadata": {
      "needs_background": "light"
     },
     "output_type": "display_data"
    }
   ],
   "source": [
    "final_tb[['avg_sddev', 'high_confidence_level', 'low_confidence_level']].plot.line(\n",
    "    color={\n",
    "        'avg_sddev': 'blue',\n",
    "        'high_confidence_level': 'gray',\n",
    "        'low_confidence_level': 'gray'\n",
    "    },\n",
    "    figsize=(20,10)\n",
    ")"
   ]
  },
  {
   "cell_type": "markdown",
   "metadata": {},
   "source": [
    "Analisando o gráfico acima podemos notar uma distorção nos valores das bandas de confiança para o mês de Maio. Isso se deu pelo fato da quantidade de elementos ter diminuído drásticamente"
   ]
  },
  {
   "cell_type": "code",
   "execution_count": 14,
   "metadata": {},
   "outputs": [
    {
     "data": {
      "text/plain": [
       "<AxesSubplot:xlabel='DTBASE'>"
      ]
     },
     "execution_count": 14,
     "metadata": {},
     "output_type": "execute_result"
    },
    {
     "data": {
      "image/png": "[encoded data removed]",
      "text/plain": [
       "<Figure size 1440x720 with 1 Axes>"
      ]
     },
     "metadata": {
      "needs_background": "light"
     },
     "output_type": "display_data"
    }
   ],
   "source": [
    "consol_table[['DTBASE', 'qnt']].set_index('DTBASE').plot.line(\n",
    "    color={\n",
    "        'qnt': 'green'\n",
    "    },\n",
    "    figsize=(20,10)\n",
    ")"
   ]
  }
 ],
 "metadata": {
  "kernelspec": {
   "display_name": "Python 3.10.4 64-bit",
   "language": "python",
   "name": "python3"
  },
  "language_info": {
   "codemirror_mode": {
    "name": "ipython",
    "version": 3
   },
   "file_extension": ".py",
   "mimetype": "text/x-python",
   "name": "python",
   "nbconvert_exporter": "python",
   "pygments_lexer": "ipython3",
   "version": "3.10.4"
  },
  "orig_nbformat": 4,
  "vscode": {
   "interpreter": {
    "hash": "916dbcbb3f70747c44a77c7bcd40155683ae19c65e1c03b4aa3499c5328201f1"
   }
  }
 },
 "nbformat": 4,
 "nbformat_minor": 2
}
