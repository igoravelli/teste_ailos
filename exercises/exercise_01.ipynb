{
 "cells": [
  {
   "cell_type": "code",
   "execution_count": 204,
   "metadata": {},
   "outputs": [],
   "source": [
    "import pandas as pd\n",
    "import sqlite3\n",
    "from datetime import datetime"
   ]
  },
  {
   "cell_type": "markdown",
   "metadata": {},
   "source": [
    "### Criando um dataframe usando o arquivo CSV"
   ]
  },
  {
   "cell_type": "code",
   "execution_count": 205,
   "metadata": {},
   "outputs": [],
   "source": [
    "path = '~/teste_ailos/base_files/base_originacao.csv'\n",
    "\n",
    "base_originacao = pd.read_csv(path, sep=';', encoding='latin-1')"
   ]
  },
  {
   "cell_type": "code",
   "execution_count": 206,
   "metadata": {},
   "outputs": [
    {
     "data": {
      "text/html": [
       "<div>\n",
       "<style scoped>\n",
       "    .dataframe tbody tr th:only-of-type {\n",
       "        vertical-align: middle;\n",
       "    }\n",
       "\n",
       "    .dataframe tbody tr th {\n",
       "        vertical-align: top;\n",
       "    }\n",
       "\n",
       "    .dataframe thead th {\n",
       "        text-align: right;\n",
       "    }\n",
       "</style>\n",
       "<table border=\"1\" class=\"dataframe\">\n",
       "  <thead>\n",
       "    <tr style=\"text-align: right;\">\n",
       "      <th></th>\n",
       "      <th>COOPERATIVA</th>\n",
       "      <th>CPF</th>\n",
       "      <th>CONTA</th>\n",
       "      <th>CONTRATO</th>\n",
       "      <th>DSPRODUTO</th>\n",
       "      <th>DTCONTRATO</th>\n",
       "      <th>VLCONTRATO</th>\n",
       "      <th>VLPARCELA</th>\n",
       "      <th>QTPARCELAS</th>\n",
       "    </tr>\n",
       "  </thead>\n",
       "  <tbody>\n",
       "    <tr>\n",
       "      <th>0</th>\n",
       "      <td>A</td>\n",
       "      <td>32</td>\n",
       "      <td>496314</td>\n",
       "      <td>677366</td>\n",
       "      <td>Financiamento</td>\n",
       "      <td>13/10/2021</td>\n",
       "      <td>4.263,60</td>\n",
       "      <td>153,00</td>\n",
       "      <td>36.0</td>\n",
       "    </tr>\n",
       "    <tr>\n",
       "      <th>1</th>\n",
       "      <td>A</td>\n",
       "      <td>38</td>\n",
       "      <td>624412</td>\n",
       "      <td>644724</td>\n",
       "      <td>Empréstimo</td>\n",
       "      <td>01/09/2021</td>\n",
       "      <td>81,60</td>\n",
       "      <td>10,20</td>\n",
       "      <td>10.0</td>\n",
       "    </tr>\n",
       "    <tr>\n",
       "      <th>2</th>\n",
       "      <td>A</td>\n",
       "      <td>154</td>\n",
       "      <td>49834</td>\n",
       "      <td>349384</td>\n",
       "      <td>Empréstimo</td>\n",
       "      <td>25/08/2020</td>\n",
       "      <td>9.761,40</td>\n",
       "      <td>204,00</td>\n",
       "      <td>72.0</td>\n",
       "    </tr>\n",
       "    <tr>\n",
       "      <th>3</th>\n",
       "      <td>A</td>\n",
       "      <td>186</td>\n",
       "      <td>398914</td>\n",
       "      <td>444074</td>\n",
       "      <td>Empréstimo</td>\n",
       "      <td>08/01/2021</td>\n",
       "      <td>4.314,60</td>\n",
       "      <td>163,20</td>\n",
       "      <td>36.0</td>\n",
       "    </tr>\n",
       "    <tr>\n",
       "      <th>4</th>\n",
       "      <td>A</td>\n",
       "      <td>430</td>\n",
       "      <td>549582</td>\n",
       "      <td>372569</td>\n",
       "      <td>Empréstimo</td>\n",
       "      <td>02/10/2020</td>\n",
       "      <td>5.548,80</td>\n",
       "      <td>183,60</td>\n",
       "      <td>48.0</td>\n",
       "    </tr>\n",
       "    <tr>\n",
       "      <th>...</th>\n",
       "      <td>...</td>\n",
       "      <td>...</td>\n",
       "      <td>...</td>\n",
       "      <td>...</td>\n",
       "      <td>...</td>\n",
       "      <td>...</td>\n",
       "      <td>...</td>\n",
       "      <td>...</td>\n",
       "      <td>...</td>\n",
       "    </tr>\n",
       "    <tr>\n",
       "      <th>7212</th>\n",
       "      <td>E</td>\n",
       "      <td>722959</td>\n",
       "      <td>116706</td>\n",
       "      <td>109717</td>\n",
       "      <td>Financiamento</td>\n",
       "      <td>21/10/2021</td>\n",
       "      <td>2.131,80</td>\n",
       "      <td>71,40</td>\n",
       "      <td>48.0</td>\n",
       "    </tr>\n",
       "    <tr>\n",
       "      <th>7213</th>\n",
       "      <td>E</td>\n",
       "      <td>724099</td>\n",
       "      <td>85550</td>\n",
       "      <td>86794</td>\n",
       "      <td>Empréstimo</td>\n",
       "      <td>24/05/2021</td>\n",
       "      <td>1.295,40</td>\n",
       "      <td>163,20</td>\n",
       "      <td>9.0</td>\n",
       "    </tr>\n",
       "    <tr>\n",
       "      <th>7214</th>\n",
       "      <td>E</td>\n",
       "      <td>726648</td>\n",
       "      <td>4018</td>\n",
       "      <td>68566</td>\n",
       "      <td>Financiamento</td>\n",
       "      <td>13/01/2021</td>\n",
       "      <td>28.998,60</td>\n",
       "      <td>459,00</td>\n",
       "      <td>120.0</td>\n",
       "    </tr>\n",
       "    <tr>\n",
       "      <th>7215</th>\n",
       "      <td>E</td>\n",
       "      <td>727495</td>\n",
       "      <td>4393</td>\n",
       "      <td>92571</td>\n",
       "      <td>Empréstimo</td>\n",
       "      <td>29/06/2021</td>\n",
       "      <td>7.211,40</td>\n",
       "      <td>265,20</td>\n",
       "      <td>36.0</td>\n",
       "    </tr>\n",
       "    <tr>\n",
       "      <th>7216</th>\n",
       "      <td>E</td>\n",
       "      <td>729272</td>\n",
       "      <td>18054</td>\n",
       "      <td>67162</td>\n",
       "      <td>Empréstimo</td>\n",
       "      <td>04/12/2020</td>\n",
       "      <td>775,20</td>\n",
       "      <td>20,40</td>\n",
       "      <td>36.0</td>\n",
       "    </tr>\n",
       "  </tbody>\n",
       "</table>\n",
       "<p>7217 rows × 9 columns</p>\n",
       "</div>"
      ],
      "text/plain": [
       "     COOPERATIVA     CPF   CONTA  CONTRATO      DSPRODUTO  DTCONTRATO  \\\n",
       "0              A      32  496314    677366  Financiamento  13/10/2021   \n",
       "1              A      38  624412    644724     Empréstimo  01/09/2021   \n",
       "2              A     154   49834    349384     Empréstimo  25/08/2020   \n",
       "3              A     186  398914    444074     Empréstimo  08/01/2021   \n",
       "4              A     430  549582    372569     Empréstimo  02/10/2020   \n",
       "...          ...     ...     ...       ...            ...         ...   \n",
       "7212           E  722959  116706    109717  Financiamento  21/10/2021   \n",
       "7213           E  724099   85550     86794     Empréstimo  24/05/2021   \n",
       "7214           E  726648    4018     68566  Financiamento  13/01/2021   \n",
       "7215           E  727495    4393     92571     Empréstimo  29/06/2021   \n",
       "7216           E  729272   18054     67162     Empréstimo  04/12/2020   \n",
       "\n",
       "     VLCONTRATO VLPARCELA  QTPARCELAS  \n",
       "0      4.263,60    153,00        36.0  \n",
       "1         81,60     10,20        10.0  \n",
       "2      9.761,40    204,00        72.0  \n",
       "3      4.314,60    163,20        36.0  \n",
       "4      5.548,80    183,60        48.0  \n",
       "...         ...       ...         ...  \n",
       "7212   2.131,80     71,40        48.0  \n",
       "7213   1.295,40    163,20         9.0  \n",
       "7214  28.998,60    459,00       120.0  \n",
       "7215   7.211,40    265,20        36.0  \n",
       "7216     775,20     20,40        36.0  \n",
       "\n",
       "[7217 rows x 9 columns]"
      ]
     },
     "execution_count": 206,
     "metadata": {},
     "output_type": "execute_result"
    }
   ],
   "source": [
    "base_originacao"
   ]
  },
  {
   "cell_type": "markdown",
   "metadata": {},
   "source": [
    "### Limpando e formatando os dados da tabela"
   ]
  },
  {
   "cell_type": "code",
   "execution_count": 207,
   "metadata": {},
   "outputs": [
    {
     "name": "stdout",
     "output_type": "stream",
     "text": [
      "<class 'str'>\n"
     ]
    },
    {
     "name": "stderr",
     "output_type": "stream",
     "text": [
      "/tmp/ipykernel_72875/310650822.py:3: FutureWarning: The default value of regex will change from True to False in a future version. In addition, single character regular expressions will *not* be treated as literal strings when regex=True.\n",
      "  base_originacao.VLCONTRATO = base_originacao.VLCONTRATO.str.replace('.', '').str.replace(',', '.').apply(lambda x: float(x))\n",
      "/tmp/ipykernel_72875/310650822.py:4: FutureWarning: The default value of regex will change from True to False in a future version. In addition, single character regular expressions will *not* be treated as literal strings when regex=True.\n",
      "  base_originacao.VLPARCELA = base_originacao.VLPARCELA.str.replace('.', '').str.replace(',', '.').apply(lambda x: float(x))\n"
     ]
    },
    {
     "data": {
      "text/html": [
       "<div>\n",
       "<style scoped>\n",
       "    .dataframe tbody tr th:only-of-type {\n",
       "        vertical-align: middle;\n",
       "    }\n",
       "\n",
       "    .dataframe tbody tr th {\n",
       "        vertical-align: top;\n",
       "    }\n",
       "\n",
       "    .dataframe thead th {\n",
       "        text-align: right;\n",
       "    }\n",
       "</style>\n",
       "<table border=\"1\" class=\"dataframe\">\n",
       "  <thead>\n",
       "    <tr style=\"text-align: right;\">\n",
       "      <th></th>\n",
       "      <th>COOPERATIVA</th>\n",
       "      <th>CPF</th>\n",
       "      <th>CONTA</th>\n",
       "      <th>CONTRATO</th>\n",
       "      <th>DSPRODUTO</th>\n",
       "      <th>DTCONTRATO</th>\n",
       "      <th>VLCONTRATO</th>\n",
       "      <th>VLPARCELA</th>\n",
       "      <th>QTPARCELAS</th>\n",
       "    </tr>\n",
       "  </thead>\n",
       "  <tbody>\n",
       "    <tr>\n",
       "      <th>0</th>\n",
       "      <td>A</td>\n",
       "      <td>32</td>\n",
       "      <td>496314</td>\n",
       "      <td>677366</td>\n",
       "      <td>Financiamento</td>\n",
       "      <td>2021-10-13</td>\n",
       "      <td>4263.6</td>\n",
       "      <td>153.0</td>\n",
       "      <td>36.0</td>\n",
       "    </tr>\n",
       "    <tr>\n",
       "      <th>1</th>\n",
       "      <td>A</td>\n",
       "      <td>38</td>\n",
       "      <td>624412</td>\n",
       "      <td>644724</td>\n",
       "      <td>Empréstimo</td>\n",
       "      <td>2021-09-01</td>\n",
       "      <td>81.6</td>\n",
       "      <td>10.2</td>\n",
       "      <td>10.0</td>\n",
       "    </tr>\n",
       "    <tr>\n",
       "      <th>2</th>\n",
       "      <td>A</td>\n",
       "      <td>154</td>\n",
       "      <td>49834</td>\n",
       "      <td>349384</td>\n",
       "      <td>Empréstimo</td>\n",
       "      <td>2020-08-25</td>\n",
       "      <td>9761.4</td>\n",
       "      <td>204.0</td>\n",
       "      <td>72.0</td>\n",
       "    </tr>\n",
       "    <tr>\n",
       "      <th>3</th>\n",
       "      <td>A</td>\n",
       "      <td>186</td>\n",
       "      <td>398914</td>\n",
       "      <td>444074</td>\n",
       "      <td>Empréstimo</td>\n",
       "      <td>2021-01-08</td>\n",
       "      <td>4314.6</td>\n",
       "      <td>163.2</td>\n",
       "      <td>36.0</td>\n",
       "    </tr>\n",
       "    <tr>\n",
       "      <th>4</th>\n",
       "      <td>A</td>\n",
       "      <td>430</td>\n",
       "      <td>549582</td>\n",
       "      <td>372569</td>\n",
       "      <td>Empréstimo</td>\n",
       "      <td>2020-10-02</td>\n",
       "      <td>5548.8</td>\n",
       "      <td>183.6</td>\n",
       "      <td>48.0</td>\n",
       "    </tr>\n",
       "  </tbody>\n",
       "</table>\n",
       "</div>"
      ],
      "text/plain": [
       "  COOPERATIVA  CPF   CONTA  CONTRATO      DSPRODUTO DTCONTRATO  VLCONTRATO  \\\n",
       "0           A   32  496314    677366  Financiamento 2021-10-13      4263.6   \n",
       "1           A   38  624412    644724     Empréstimo 2021-09-01        81.6   \n",
       "2           A  154   49834    349384     Empréstimo 2020-08-25      9761.4   \n",
       "3           A  186  398914    444074     Empréstimo 2021-01-08      4314.6   \n",
       "4           A  430  549582    372569     Empréstimo 2020-10-02      5548.8   \n",
       "\n",
       "   VLPARCELA  QTPARCELAS  \n",
       "0      153.0        36.0  \n",
       "1       10.2        10.0  \n",
       "2      204.0        72.0  \n",
       "3      163.2        36.0  \n",
       "4      183.6        48.0  "
      ]
     },
     "execution_count": 207,
     "metadata": {},
     "output_type": "execute_result"
    }
   ],
   "source": [
    "## transformando as colunas numéricas de str para em float \n",
    "print(type(base_originacao['VLCONTRATO'][0]))\n",
    "base_originacao.VLCONTRATO = base_originacao.VLCONTRATO.str.replace('.', '').str.replace(',', '.').apply(lambda x: float(x))\n",
    "base_originacao.VLPARCELA = base_originacao.VLPARCELA.str.replace('.', '').str.replace(',', '.').apply(lambda x: float(x))\n",
    "\n",
    "\n",
    "## transformando a coluna de data em date\n",
    "base_originacao.DTCONTRATO = pd.to_datetime(base_originacao.DTCONTRATO, format='%d/%m/%Y')\n",
    "\n",
    "base_originacao.head()"
   ]
  },
  {
   "cell_type": "markdown",
   "metadata": {},
   "source": [
    "### Criando um DB Sqlite para fazer consultas em SQL"
   ]
  },
  {
   "cell_type": "code",
   "execution_count": 208,
   "metadata": {},
   "outputs": [],
   "source": [
    "%reload_ext sql\n",
    "%sql sqlite:///teste_ailos.db"
   ]
  },
  {
   "cell_type": "code",
   "execution_count": 209,
   "metadata": {},
   "outputs": [
    {
     "data": {
      "text/plain": [
       "7217"
      ]
     },
     "execution_count": 209,
     "metadata": {},
     "output_type": "execute_result"
    }
   ],
   "source": [
    "## criando tabela no db para consulta em SQL\n",
    "conn = sqlite3.connect('teste_ailos.db')\n",
    "cur = conn.cursor()\n",
    "cur.execute('DROP TABLE IF EXISTS base_originacao')\n",
    "conn.commit()\n",
    "\n",
    "base_originacao.to_sql('base_originacao', conn)\n"
   ]
  },
  {
   "cell_type": "markdown",
   "metadata": {},
   "source": [
    "# RESOLUÇÃO DO EXERCÍCIO EM SQL\n",
    "\n",
    "### Calcule a quantidade de dias distintos DTCONTRATO e a soma dos VLCONTRATO dos contratos originados"
   ]
  },
  {
   "cell_type": "code",
   "execution_count": 210,
   "metadata": {},
   "outputs": [
    {
     "name": "stdout",
     "output_type": "stream",
     "text": [
      "   sqlite:///base_originacao.db\n",
      " * sqlite:///teste_ailos.db\n",
      "Done.\n"
     ]
    },
    {
     "data": {
      "text/html": [
       "<table>\n",
       "    <tr>\n",
       "        <th>index</th>\n",
       "        <th>COOPERATIVA</th>\n",
       "        <th>CPF</th>\n",
       "        <th>CONTA</th>\n",
       "        <th>CONTRATO</th>\n",
       "        <th>DSPRODUTO</th>\n",
       "        <th>DTCONTRATO</th>\n",
       "        <th>VLCONTRATO</th>\n",
       "        <th>VLPARCELA</th>\n",
       "        <th>QTPARCELAS</th>\n",
       "    </tr>\n",
       "    <tr>\n",
       "        <td>0</td>\n",
       "        <td>A</td>\n",
       "        <td>32</td>\n",
       "        <td>496314</td>\n",
       "        <td>677366</td>\n",
       "        <td>Financiamento</td>\n",
       "        <td>2021-10-13 00:00:00</td>\n",
       "        <td>4263.6</td>\n",
       "        <td>153.0</td>\n",
       "        <td>36.0</td>\n",
       "    </tr>\n",
       "    <tr>\n",
       "        <td>1</td>\n",
       "        <td>A</td>\n",
       "        <td>38</td>\n",
       "        <td>624412</td>\n",
       "        <td>644724</td>\n",
       "        <td>Empréstimo</td>\n",
       "        <td>2021-09-01 00:00:00</td>\n",
       "        <td>81.6</td>\n",
       "        <td>10.2</td>\n",
       "        <td>10.0</td>\n",
       "    </tr>\n",
       "    <tr>\n",
       "        <td>2</td>\n",
       "        <td>A</td>\n",
       "        <td>154</td>\n",
       "        <td>49834</td>\n",
       "        <td>349384</td>\n",
       "        <td>Empréstimo</td>\n",
       "        <td>2020-08-25 00:00:00</td>\n",
       "        <td>9761.4</td>\n",
       "        <td>204.0</td>\n",
       "        <td>72.0</td>\n",
       "    </tr>\n",
       "    <tr>\n",
       "        <td>3</td>\n",
       "        <td>A</td>\n",
       "        <td>186</td>\n",
       "        <td>398914</td>\n",
       "        <td>444074</td>\n",
       "        <td>Empréstimo</td>\n",
       "        <td>2021-01-08 00:00:00</td>\n",
       "        <td>4314.6</td>\n",
       "        <td>163.2</td>\n",
       "        <td>36.0</td>\n",
       "    </tr>\n",
       "    <tr>\n",
       "        <td>4</td>\n",
       "        <td>A</td>\n",
       "        <td>430</td>\n",
       "        <td>549582</td>\n",
       "        <td>372569</td>\n",
       "        <td>Empréstimo</td>\n",
       "        <td>2020-10-02 00:00:00</td>\n",
       "        <td>5548.8</td>\n",
       "        <td>183.6</td>\n",
       "        <td>48.0</td>\n",
       "    </tr>\n",
       "</table>"
      ],
      "text/plain": [
       "[(0, 'A', 32, 496314, 677366, 'Financiamento', '2021-10-13 00:00:00', 4263.6, 153.0, 36.0),\n",
       " (1, 'A', 38, 624412, 644724, 'Empréstimo', '2021-09-01 00:00:00', 81.6, 10.2, 10.0),\n",
       " (2, 'A', 154, 49834, 349384, 'Empréstimo', '2020-08-25 00:00:00', 9761.4, 204.0, 72.0),\n",
       " (3, 'A', 186, 398914, 444074, 'Empréstimo', '2021-01-08 00:00:00', 4314.6, 163.2, 36.0),\n",
       " (4, 'A', 430, 549582, 372569, 'Empréstimo', '2020-10-02 00:00:00', 5548.8, 183.6, 48.0)]"
      ]
     },
     "execution_count": 210,
     "metadata": {},
     "output_type": "execute_result"
    }
   ],
   "source": [
    "%%sql\n",
    "select * from base_originacao limit 5;"
   ]
  },
  {
   "cell_type": "code",
   "execution_count": 211,
   "metadata": {},
   "outputs": [
    {
     "name": "stdout",
     "output_type": "stream",
     "text": [
      "   sqlite:///base_originacao.db\n",
      " * sqlite:///teste_ailos.db\n",
      "Done.\n"
     ]
    },
    {
     "data": {
      "text/html": [
       "<table>\n",
       "    <tr>\n",
       "        <th>Qnt_dias</th>\n",
       "    </tr>\n",
       "    <tr>\n",
       "        <td>921</td>\n",
       "    </tr>\n",
       "</table>"
      ],
      "text/plain": [
       "[(921,)]"
      ]
     },
     "execution_count": 211,
     "metadata": {},
     "output_type": "execute_result"
    }
   ],
   "source": [
    "%%sql\n",
    "select \n",
    "    count(distinct DTCONTRATO) as Qnt_dias \n",
    "from\n",
    "    base_originacao;"
   ]
  },
  {
   "cell_type": "code",
   "execution_count": 212,
   "metadata": {},
   "outputs": [
    {
     "name": "stdout",
     "output_type": "stream",
     "text": [
      "   sqlite:///base_originacao.db\n",
      " * sqlite:///teste_ailos.db\n",
      "Done.\n"
     ]
    },
    {
     "data": {
      "text/html": [
       "<table>\n",
       "    <tr>\n",
       "        <th>Sum_contrato</th>\n",
       "    </tr>\n",
       "    <tr>\n",
       "        <td>32816286.6</td>\n",
       "    </tr>\n",
       "</table>"
      ],
      "text/plain": [
       "[(32816286.6,)]"
      ]
     },
     "execution_count": 212,
     "metadata": {},
     "output_type": "execute_result"
    }
   ],
   "source": [
    "%%sql\n",
    "select \n",
    "    round(sum(VLCONTRATO), 2) as Sum_contrato \n",
    "from \n",
    "    base_originacao;"
   ]
  },
  {
   "cell_type": "markdown",
   "metadata": {},
   "source": [
    "# RESOLUÇÃO DO EXERCÍCIO EM PYTHON\n",
    "\n",
    "### Calcule a quantidade de dias distintos DTCONTRATO e a soma dos VLCONTRATO dos contratos originados"
   ]
  },
  {
   "cell_type": "code",
   "execution_count": 213,
   "metadata": {},
   "outputs": [
    {
     "data": {
      "text/html": [
       "<div>\n",
       "<style scoped>\n",
       "    .dataframe tbody tr th:only-of-type {\n",
       "        vertical-align: middle;\n",
       "    }\n",
       "\n",
       "    .dataframe tbody tr th {\n",
       "        vertical-align: top;\n",
       "    }\n",
       "\n",
       "    .dataframe thead th {\n",
       "        text-align: right;\n",
       "    }\n",
       "</style>\n",
       "<table border=\"1\" class=\"dataframe\">\n",
       "  <thead>\n",
       "    <tr style=\"text-align: right;\">\n",
       "      <th></th>\n",
       "      <th>COOPERATIVA</th>\n",
       "      <th>CPF</th>\n",
       "      <th>CONTA</th>\n",
       "      <th>CONTRATO</th>\n",
       "      <th>DSPRODUTO</th>\n",
       "      <th>DTCONTRATO</th>\n",
       "      <th>VLCONTRATO</th>\n",
       "      <th>VLPARCELA</th>\n",
       "      <th>QTPARCELAS</th>\n",
       "    </tr>\n",
       "  </thead>\n",
       "  <tbody>\n",
       "    <tr>\n",
       "      <th>0</th>\n",
       "      <td>A</td>\n",
       "      <td>32</td>\n",
       "      <td>496314</td>\n",
       "      <td>677366</td>\n",
       "      <td>Financiamento</td>\n",
       "      <td>2021-10-13</td>\n",
       "      <td>4263.6</td>\n",
       "      <td>153.0</td>\n",
       "      <td>36.0</td>\n",
       "    </tr>\n",
       "    <tr>\n",
       "      <th>1</th>\n",
       "      <td>A</td>\n",
       "      <td>38</td>\n",
       "      <td>624412</td>\n",
       "      <td>644724</td>\n",
       "      <td>Empréstimo</td>\n",
       "      <td>2021-09-01</td>\n",
       "      <td>81.6</td>\n",
       "      <td>10.2</td>\n",
       "      <td>10.0</td>\n",
       "    </tr>\n",
       "    <tr>\n",
       "      <th>2</th>\n",
       "      <td>A</td>\n",
       "      <td>154</td>\n",
       "      <td>49834</td>\n",
       "      <td>349384</td>\n",
       "      <td>Empréstimo</td>\n",
       "      <td>2020-08-25</td>\n",
       "      <td>9761.4</td>\n",
       "      <td>204.0</td>\n",
       "      <td>72.0</td>\n",
       "    </tr>\n",
       "    <tr>\n",
       "      <th>3</th>\n",
       "      <td>A</td>\n",
       "      <td>186</td>\n",
       "      <td>398914</td>\n",
       "      <td>444074</td>\n",
       "      <td>Empréstimo</td>\n",
       "      <td>2021-01-08</td>\n",
       "      <td>4314.6</td>\n",
       "      <td>163.2</td>\n",
       "      <td>36.0</td>\n",
       "    </tr>\n",
       "    <tr>\n",
       "      <th>4</th>\n",
       "      <td>A</td>\n",
       "      <td>430</td>\n",
       "      <td>549582</td>\n",
       "      <td>372569</td>\n",
       "      <td>Empréstimo</td>\n",
       "      <td>2020-10-02</td>\n",
       "      <td>5548.8</td>\n",
       "      <td>183.6</td>\n",
       "      <td>48.0</td>\n",
       "    </tr>\n",
       "  </tbody>\n",
       "</table>\n",
       "</div>"
      ],
      "text/plain": [
       "  COOPERATIVA  CPF   CONTA  CONTRATO      DSPRODUTO DTCONTRATO  VLCONTRATO  \\\n",
       "0           A   32  496314    677366  Financiamento 2021-10-13      4263.6   \n",
       "1           A   38  624412    644724     Empréstimo 2021-09-01        81.6   \n",
       "2           A  154   49834    349384     Empréstimo 2020-08-25      9761.4   \n",
       "3           A  186  398914    444074     Empréstimo 2021-01-08      4314.6   \n",
       "4           A  430  549582    372569     Empréstimo 2020-10-02      5548.8   \n",
       "\n",
       "   VLPARCELA  QTPARCELAS  \n",
       "0      153.0        36.0  \n",
       "1       10.2        10.0  \n",
       "2      204.0        72.0  \n",
       "3      163.2        36.0  \n",
       "4      183.6        48.0  "
      ]
     },
     "execution_count": 213,
     "metadata": {},
     "output_type": "execute_result"
    }
   ],
   "source": [
    "base_originacao.head()"
   ]
  },
  {
   "cell_type": "code",
   "execution_count": 214,
   "metadata": {},
   "outputs": [
    {
     "name": "stdout",
     "output_type": "stream",
     "text": [
      "A quantidade de dias distintos é:  921\n"
     ]
    }
   ],
   "source": [
    "Qnt_dias = base_originacao.DTCONTRATO.unique().shape[0]\n",
    "\n",
    "print('A quantidade de dias distintos é: ', Qnt_dias)"
   ]
  },
  {
   "cell_type": "code",
   "execution_count": 215,
   "metadata": {},
   "outputs": [
    {
     "name": "stdout",
     "output_type": "stream",
     "text": [
      "A soma dos contratos é:  32816286.6\n"
     ]
    }
   ],
   "source": [
    "Sum_contrato = round(base_originacao.VLCONTRATO.sum(), 2)\n",
    "\n",
    "print('A soma dos contratos é: ', Sum_contrato)"
   ]
  }
 ],
 "metadata": {
  "kernelspec": {
   "display_name": "Python 3.10.4 64-bit",
   "language": "python",
   "name": "python3"
  },
  "language_info": {
   "codemirror_mode": {
    "name": "ipython",
    "version": 3
   },
   "file_extension": ".py",
   "mimetype": "text/x-python",
   "name": "python",
   "nbconvert_exporter": "python",
   "pygments_lexer": "ipython3",
   "version": "3.10.4"
  },
  "orig_nbformat": 4,
  "vscode": {
   "interpreter": {
    "hash": "916dbcbb3f70747c44a77c7bcd40155683ae19c65e1c03b4aa3499c5328201f1"
   }
  }
 },
 "nbformat": 4,
 "nbformat_minor": 2
}
