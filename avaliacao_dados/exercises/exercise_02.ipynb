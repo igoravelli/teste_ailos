{
 "cells": [
  {
   "cell_type": "code",
   "execution_count": 1,
   "metadata": {},
   "outputs": [],
   "source": [
    "import pandas as pd\n",
    "import sqlite3"
   ]
  },
  {
   "cell_type": "code",
   "execution_count": 2,
   "metadata": {},
   "outputs": [
    {
     "name": "stdout",
     "output_type": "stream",
     "text": [
      "<class 'str'>\n"
     ]
    },
    {
     "name": "stderr",
     "output_type": "stream",
     "text": [
      "/tmp/ipykernel_74381/3054090517.py:3: FutureWarning: The default value of regex will change from True to False in a future version. In addition, single character regular expressions will *not* be treated as literal strings when regex=True.\n",
      "  base_originacao.VLCONTRATO = base_originacao.VLCONTRATO.str.replace('.', '').str.replace(',', '.').apply(lambda x: float(x))\n",
      "/tmp/ipykernel_74381/3054090517.py:4: FutureWarning: The default value of regex will change from True to False in a future version. In addition, single character regular expressions will *not* be treated as literal strings when regex=True.\n",
      "  base_originacao.VLPARCELA = base_originacao.VLPARCELA.str.replace('.', '').str.replace(',', '.').apply(lambda x: float(x))\n",
      "/tmp/ipykernel_74381/3054090517.py:6: FutureWarning: The default value of regex will change from True to False in a future version. In addition, single character regular expressions will *not* be treated as literal strings when regex=True.\n",
      "  base_carteira.VLCONTRATO = base_carteira.VLCONTRATO.str.replace('.', '').str.replace(',', '.').apply(lambda x: float(x))\n",
      "/tmp/ipykernel_74381/3054090517.py:7: FutureWarning: The default value of regex will change from True to False in a future version. In addition, single character regular expressions will *not* be treated as literal strings when regex=True.\n",
      "  base_carteira.SDDEVEDOR = base_carteira.SDDEVEDOR.str.replace('.', '').str.replace(',', '.').apply(lambda x: float(x))\n",
      "/tmp/ipykernel_74381/3054090517.py:8: FutureWarning: The default value of regex will change from True to False in a future version. In addition, single character regular expressions will *not* be treated as literal strings when regex=True.\n",
      "  base_carteira.SDATRASO = base_carteira.SDATRASO.str.replace('.', '').str.replace(',', '.').apply(lambda x: float(x))\n",
      "/tmp/ipykernel_74381/3054090517.py:9: FutureWarning: The default value of regex will change from True to False in a future version. In addition, single character regular expressions will *not* be treated as literal strings when regex=True.\n",
      "  base_carteira.VLPROVISAO = base_carteira.VLPROVISAO.str.replace('.', '').str.replace(',', '.').apply(lambda x: float(x))\n"
     ]
    },
    {
     "name": "stdout",
     "output_type": "stream",
     "text": [
      "contém 0 registros duplicados na base_carteira!\n",
      "contém 0 registros duplicados na base_originacao!\n"
     ]
    }
   ],
   "source": [
    "%run ./transform_and_create_tables.ipynb"
   ]
  },
  {
   "cell_type": "code",
   "execution_count": 3,
   "metadata": {},
   "outputs": [],
   "source": [
    "conn = sqlite3.connect('teste_ailos.db')\n",
    "\n",
    "base_originacao = pd.read_sql_query(\"SELECT * FROM base_originacao\", conn)\n",
    "base_carteira = pd.read_sql_query(\"SELECT * FROM base_carteira\", conn)"
   ]
  },
  {
   "cell_type": "code",
   "execution_count": 4,
   "metadata": {},
   "outputs": [],
   "source": [
    "%reload_ext sql\n",
    "%sql sqlite:///teste_ailos.db"
   ]
  },
  {
   "cell_type": "code",
   "execution_count": 5,
   "metadata": {},
   "outputs": [
    {
     "data": {
      "text/html": [
       "<div>\n",
       "<style scoped>\n",
       "    .dataframe tbody tr th:only-of-type {\n",
       "        vertical-align: middle;\n",
       "    }\n",
       "\n",
       "    .dataframe tbody tr th {\n",
       "        vertical-align: top;\n",
       "    }\n",
       "\n",
       "    .dataframe thead th {\n",
       "        text-align: right;\n",
       "    }\n",
       "</style>\n",
       "<table border=\"1\" class=\"dataframe\">\n",
       "  <thead>\n",
       "    <tr style=\"text-align: right;\">\n",
       "      <th></th>\n",
       "      <th>index</th>\n",
       "      <th>COOPERATIVA</th>\n",
       "      <th>CPF</th>\n",
       "      <th>CONTA</th>\n",
       "      <th>CONTRATO</th>\n",
       "      <th>DSPRODUTO</th>\n",
       "      <th>DTCONTRATO</th>\n",
       "      <th>VLCONTRATO</th>\n",
       "      <th>VLPARCELA</th>\n",
       "      <th>QTPARCELAS</th>\n",
       "    </tr>\n",
       "  </thead>\n",
       "  <tbody>\n",
       "    <tr>\n",
       "      <th>0</th>\n",
       "      <td>0</td>\n",
       "      <td>A</td>\n",
       "      <td>32</td>\n",
       "      <td>496314</td>\n",
       "      <td>677366</td>\n",
       "      <td>Financiamento</td>\n",
       "      <td>2021-10-13 00:00:00</td>\n",
       "      <td>4263.6</td>\n",
       "      <td>153.0</td>\n",
       "      <td>36.0</td>\n",
       "    </tr>\n",
       "    <tr>\n",
       "      <th>1</th>\n",
       "      <td>1</td>\n",
       "      <td>A</td>\n",
       "      <td>38</td>\n",
       "      <td>624412</td>\n",
       "      <td>644724</td>\n",
       "      <td>Empréstimo</td>\n",
       "      <td>2021-09-01 00:00:00</td>\n",
       "      <td>81.6</td>\n",
       "      <td>10.2</td>\n",
       "      <td>10.0</td>\n",
       "    </tr>\n",
       "    <tr>\n",
       "      <th>2</th>\n",
       "      <td>2</td>\n",
       "      <td>A</td>\n",
       "      <td>154</td>\n",
       "      <td>49834</td>\n",
       "      <td>349384</td>\n",
       "      <td>Empréstimo</td>\n",
       "      <td>2020-08-25 00:00:00</td>\n",
       "      <td>9761.4</td>\n",
       "      <td>204.0</td>\n",
       "      <td>72.0</td>\n",
       "    </tr>\n",
       "    <tr>\n",
       "      <th>3</th>\n",
       "      <td>3</td>\n",
       "      <td>A</td>\n",
       "      <td>186</td>\n",
       "      <td>398914</td>\n",
       "      <td>444074</td>\n",
       "      <td>Empréstimo</td>\n",
       "      <td>2021-01-08 00:00:00</td>\n",
       "      <td>4314.6</td>\n",
       "      <td>163.2</td>\n",
       "      <td>36.0</td>\n",
       "    </tr>\n",
       "    <tr>\n",
       "      <th>4</th>\n",
       "      <td>4</td>\n",
       "      <td>A</td>\n",
       "      <td>430</td>\n",
       "      <td>549582</td>\n",
       "      <td>372569</td>\n",
       "      <td>Empréstimo</td>\n",
       "      <td>2020-10-02 00:00:00</td>\n",
       "      <td>5548.8</td>\n",
       "      <td>183.6</td>\n",
       "      <td>48.0</td>\n",
       "    </tr>\n",
       "  </tbody>\n",
       "</table>\n",
       "</div>"
      ],
      "text/plain": [
       "   index COOPERATIVA  CPF   CONTA  CONTRATO      DSPRODUTO  \\\n",
       "0      0           A   32  496314    677366  Financiamento   \n",
       "1      1           A   38  624412    644724     Empréstimo   \n",
       "2      2           A  154   49834    349384     Empréstimo   \n",
       "3      3           A  186  398914    444074     Empréstimo   \n",
       "4      4           A  430  549582    372569     Empréstimo   \n",
       "\n",
       "            DTCONTRATO  VLCONTRATO  VLPARCELA  QTPARCELAS  \n",
       "0  2021-10-13 00:00:00      4263.6      153.0        36.0  \n",
       "1  2021-09-01 00:00:00        81.6       10.2        10.0  \n",
       "2  2020-08-25 00:00:00      9761.4      204.0        72.0  \n",
       "3  2021-01-08 00:00:00      4314.6      163.2        36.0  \n",
       "4  2020-10-02 00:00:00      5548.8      183.6        48.0  "
      ]
     },
     "execution_count": 5,
     "metadata": {},
     "output_type": "execute_result"
    }
   ],
   "source": [
    "base_originacao.head()"
   ]
  },
  {
   "cell_type": "code",
   "execution_count": 6,
   "metadata": {},
   "outputs": [
    {
     "data": {
      "text/html": [
       "<div>\n",
       "<style scoped>\n",
       "    .dataframe tbody tr th:only-of-type {\n",
       "        vertical-align: middle;\n",
       "    }\n",
       "\n",
       "    .dataframe tbody tr th {\n",
       "        vertical-align: top;\n",
       "    }\n",
       "\n",
       "    .dataframe thead th {\n",
       "        text-align: right;\n",
       "    }\n",
       "</style>\n",
       "<table border=\"1\" class=\"dataframe\">\n",
       "  <thead>\n",
       "    <tr style=\"text-align: right;\">\n",
       "      <th></th>\n",
       "      <th>index</th>\n",
       "      <th>DTBASE</th>\n",
       "      <th>COOPERATIVA</th>\n",
       "      <th>CPF</th>\n",
       "      <th>CONTA</th>\n",
       "      <th>CONTRATO</th>\n",
       "      <th>DSPRODUTO</th>\n",
       "      <th>DTCONTRATO</th>\n",
       "      <th>VLCONTRATO</th>\n",
       "      <th>SDDEVEDOR</th>\n",
       "      <th>QTDIASATRASO</th>\n",
       "      <th>SDATRASO</th>\n",
       "      <th>VLPROVISAO</th>\n",
       "    </tr>\n",
       "  </thead>\n",
       "  <tbody>\n",
       "    <tr>\n",
       "      <th>0</th>\n",
       "      <td>0</td>\n",
       "      <td>2021-01-31 00:00:00</td>\n",
       "      <td>A</td>\n",
       "      <td>154</td>\n",
       "      <td>49834</td>\n",
       "      <td>349384</td>\n",
       "      <td>Empréstimo</td>\n",
       "      <td>2020-08-25 00:00:00</td>\n",
       "      <td>9761.4</td>\n",
       "      <td>9557.4</td>\n",
       "      <td>0.0</td>\n",
       "      <td>0.0</td>\n",
       "      <td>30.6</td>\n",
       "    </tr>\n",
       "    <tr>\n",
       "      <th>1</th>\n",
       "      <td>1</td>\n",
       "      <td>2021-01-31 00:00:00</td>\n",
       "      <td>A</td>\n",
       "      <td>186</td>\n",
       "      <td>398914</td>\n",
       "      <td>444074</td>\n",
       "      <td>Empréstimo</td>\n",
       "      <td>2021-01-08 00:00:00</td>\n",
       "      <td>4314.6</td>\n",
       "      <td>4365.6</td>\n",
       "      <td>0.0</td>\n",
       "      <td>0.0</td>\n",
       "      <td>81.6</td>\n",
       "    </tr>\n",
       "    <tr>\n",
       "      <th>2</th>\n",
       "      <td>2</td>\n",
       "      <td>2021-01-31 00:00:00</td>\n",
       "      <td>A</td>\n",
       "      <td>430</td>\n",
       "      <td>549582</td>\n",
       "      <td>372569</td>\n",
       "      <td>Empréstimo</td>\n",
       "      <td>2020-10-02 00:00:00</td>\n",
       "      <td>5548.8</td>\n",
       "      <td>5273.4</td>\n",
       "      <td>0.0</td>\n",
       "      <td>0.0</td>\n",
       "      <td>20.4</td>\n",
       "    </tr>\n",
       "    <tr>\n",
       "      <th>3</th>\n",
       "      <td>3</td>\n",
       "      <td>2021-01-31 00:00:00</td>\n",
       "      <td>A</td>\n",
       "      <td>512</td>\n",
       "      <td>217818</td>\n",
       "      <td>223696</td>\n",
       "      <td>Empréstimo</td>\n",
       "      <td>2020-01-31 00:00:00</td>\n",
       "      <td>3111.0</td>\n",
       "      <td>2539.8</td>\n",
       "      <td>0.0</td>\n",
       "      <td>0.0</td>\n",
       "      <td>10.2</td>\n",
       "    </tr>\n",
       "    <tr>\n",
       "      <th>4</th>\n",
       "      <td>4</td>\n",
       "      <td>2021-01-31 00:00:00</td>\n",
       "      <td>A</td>\n",
       "      <td>754</td>\n",
       "      <td>546819</td>\n",
       "      <td>435007</td>\n",
       "      <td>Empréstimo</td>\n",
       "      <td>2020-12-23 00:00:00</td>\n",
       "      <td>601.8</td>\n",
       "      <td>601.8</td>\n",
       "      <td>19.0</td>\n",
       "      <td>601.8</td>\n",
       "      <td>10.2</td>\n",
       "    </tr>\n",
       "  </tbody>\n",
       "</table>\n",
       "</div>"
      ],
      "text/plain": [
       "   index               DTBASE COOPERATIVA  CPF   CONTA  CONTRATO   DSPRODUTO  \\\n",
       "0      0  2021-01-31 00:00:00           A  154   49834    349384  Empréstimo   \n",
       "1      1  2021-01-31 00:00:00           A  186  398914    444074  Empréstimo   \n",
       "2      2  2021-01-31 00:00:00           A  430  549582    372569  Empréstimo   \n",
       "3      3  2021-01-31 00:00:00           A  512  217818    223696  Empréstimo   \n",
       "4      4  2021-01-31 00:00:00           A  754  546819    435007  Empréstimo   \n",
       "\n",
       "            DTCONTRATO  VLCONTRATO  SDDEVEDOR  QTDIASATRASO  SDATRASO  \\\n",
       "0  2020-08-25 00:00:00      9761.4     9557.4           0.0       0.0   \n",
       "1  2021-01-08 00:00:00      4314.6     4365.6           0.0       0.0   \n",
       "2  2020-10-02 00:00:00      5548.8     5273.4           0.0       0.0   \n",
       "3  2020-01-31 00:00:00      3111.0     2539.8           0.0       0.0   \n",
       "4  2020-12-23 00:00:00       601.8      601.8          19.0     601.8   \n",
       "\n",
       "   VLPROVISAO  \n",
       "0        30.6  \n",
       "1        81.6  \n",
       "2        20.4  \n",
       "3        10.2  \n",
       "4        10.2  "
      ]
     },
     "execution_count": 6,
     "metadata": {},
     "output_type": "execute_result"
    }
   ],
   "source": [
    "base_carteira.head()"
   ]
  },
  {
   "cell_type": "markdown",
   "metadata": {},
   "source": [
    "# RESOLUÇÃO DO EXERCÍCIO EM SQL\n",
    "\n",
    "### Para a Cooperativa A, obtenha a relação dos 10 CPFs com maiores Saldos Devedor para a data referência 30/09/2021, em que os CPFs apresentam algum atraso maior que zero"
   ]
  },
  {
   "cell_type": "code",
   "execution_count": 7,
   "metadata": {},
   "outputs": [
    {
     "name": "stdout",
     "output_type": "stream",
     "text": [
      " * sqlite:///teste_ailos.db\n",
      "Done.\n"
     ]
    },
    {
     "data": {
      "text/html": [
       "<table>\n",
       "    <tr>\n",
       "        <th>CPF</th>\n",
       "        <th>sum_saldo_devedor</th>\n",
       "    </tr>\n",
       "    <tr>\n",
       "        <td>80770</td>\n",
       "        <td>58425.6</td>\n",
       "    </tr>\n",
       "    <tr>\n",
       "        <td>565660</td>\n",
       "        <td>40269.6</td>\n",
       "    </tr>\n",
       "    <tr>\n",
       "        <td>714760</td>\n",
       "        <td>18421.2</td>\n",
       "    </tr>\n",
       "    <tr>\n",
       "        <td>127329</td>\n",
       "        <td>17941.8</td>\n",
       "    </tr>\n",
       "    <tr>\n",
       "        <td>164078</td>\n",
       "        <td>16697.4</td>\n",
       "    </tr>\n",
       "    <tr>\n",
       "        <td>286984</td>\n",
       "        <td>16442.4</td>\n",
       "    </tr>\n",
       "    <tr>\n",
       "        <td>629355</td>\n",
       "        <td>16411.8</td>\n",
       "    </tr>\n",
       "    <tr>\n",
       "        <td>265230</td>\n",
       "        <td>15759.0</td>\n",
       "    </tr>\n",
       "    <tr>\n",
       "        <td>409432</td>\n",
       "        <td>14137.2</td>\n",
       "    </tr>\n",
       "    <tr>\n",
       "        <td>334457</td>\n",
       "        <td>14055.6</td>\n",
       "    </tr>\n",
       "</table>"
      ],
      "text/plain": [
       "[(80770, 58425.6),\n",
       " (565660, 40269.6),\n",
       " (714760, 18421.2),\n",
       " (127329, 17941.8),\n",
       " (164078, 16697.4),\n",
       " (286984, 16442.4),\n",
       " (629355, 16411.8),\n",
       " (265230, 15759.0),\n",
       " (409432, 14137.2),\n",
       " (334457, 14055.6)]"
      ]
     },
     "execution_count": 7,
     "metadata": {},
     "output_type": "execute_result"
    }
   ],
   "source": [
    "%%sql\n",
    "select \n",
    "    CPF, round(sum(SDDEVEDOR),2) as sum_saldo_devedor\n",
    "from \n",
    "    base_carteira\n",
    "where\n",
    "    SDATRASO > 0 \n",
    "    and date(DTBASE) = '2021-09-30'\n",
    "    and COOPERATIVA = 'A'\n",
    "group by \n",
    "    CPF\n",
    "order by \n",
    "    2 desc\n",
    "limit 10;"
   ]
  },
  {
   "cell_type": "markdown",
   "metadata": {},
   "source": [
    "# RESOLUÇÃO DO EXERCÍCIO EM PYTHON\n",
    "\n",
    "### Para a Cooperativa A, obtenha a relação dos 10 CPFs com maiores Saldos Devedor para a data referência 30/09/2021, em que os CPFs apresentam algum atraso maior que zero"
   ]
  },
  {
   "cell_type": "code",
   "execution_count": 8,
   "metadata": {},
   "outputs": [
    {
     "data": {
      "text/plain": [
       "CPF\n",
       "80770     58425.6\n",
       "565660    40269.6\n",
       "714760    18421.2\n",
       "127329    17941.8\n",
       "164078    16697.4\n",
       "286984    16442.4\n",
       "629355    16411.8\n",
       "265230    15759.0\n",
       "409432    14137.2\n",
       "334457    14055.6\n",
       "Name: SDDEVEDOR, dtype: float64"
      ]
     },
     "execution_count": 8,
     "metadata": {},
     "output_type": "execute_result"
    }
   ],
   "source": [
    "top_10_sddevedor = base_carteira[\n",
    "                                    (base_carteira.DTBASE == '2021-09-30 00:00:00') & \n",
    "                                    (base_carteira.SDATRASO > 0) &\n",
    "                                    (base_carteira.COOPERATIVA == 'A')].groupby('CPF')['SDDEVEDOR'].sum()\n",
    "\n",
    "top_10_sddevedor.sort_values(ascending=False)[:10]"
   ]
  }
 ],
 "metadata": {
  "kernelspec": {
   "display_name": "Python 3.10.4 64-bit",
   "language": "python",
   "name": "python3"
  },
  "language_info": {
   "codemirror_mode": {
    "name": "ipython",
    "version": 3
   },
   "file_extension": ".py",
   "mimetype": "text/x-python",
   "name": "python",
   "nbconvert_exporter": "python",
   "pygments_lexer": "ipython3",
   "version": "3.10.4"
  },
  "orig_nbformat": 4,
  "vscode": {
   "interpreter": {
    "hash": "916dbcbb3f70747c44a77c7bcd40155683ae19c65e1c03b4aa3499c5328201f1"
   }
  }
 },
 "nbformat": 4,
 "nbformat_minor": 2
}
