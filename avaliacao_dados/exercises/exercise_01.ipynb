{
 "cells": [
  {
   "cell_type": "code",
   "execution_count": 3,
   "metadata": {},
   "outputs": [],
   "source": [
    "import pandas as pd\n",
    "import sqlite3"
   ]
  },
  {
   "cell_type": "code",
   "execution_count": 4,
   "metadata": {},
   "outputs": [
    {
     "name": "stdout",
     "output_type": "stream",
     "text": [
      "<class 'str'>\n"
     ]
    },
    {
     "name": "stderr",
     "output_type": "stream",
     "text": [
      "/tmp/ipykernel_74156/3054090517.py:3: FutureWarning: The default value of regex will change from True to False in a future version. In addition, single character regular expressions will *not* be treated as literal strings when regex=True.\n",
      "  base_originacao.VLCONTRATO = base_originacao.VLCONTRATO.str.replace('.', '').str.replace(',', '.').apply(lambda x: float(x))\n",
      "/tmp/ipykernel_74156/3054090517.py:4: FutureWarning: The default value of regex will change from True to False in a future version. In addition, single character regular expressions will *not* be treated as literal strings when regex=True.\n",
      "  base_originacao.VLPARCELA = base_originacao.VLPARCELA.str.replace('.', '').str.replace(',', '.').apply(lambda x: float(x))\n",
      "/tmp/ipykernel_74156/3054090517.py:6: FutureWarning: The default value of regex will change from True to False in a future version. In addition, single character regular expressions will *not* be treated as literal strings when regex=True.\n",
      "  base_carteira.VLCONTRATO = base_carteira.VLCONTRATO.str.replace('.', '').str.replace(',', '.').apply(lambda x: float(x))\n",
      "/tmp/ipykernel_74156/3054090517.py:7: FutureWarning: The default value of regex will change from True to False in a future version. In addition, single character regular expressions will *not* be treated as literal strings when regex=True.\n",
      "  base_carteira.SDDEVEDOR = base_carteira.SDDEVEDOR.str.replace('.', '').str.replace(',', '.').apply(lambda x: float(x))\n",
      "/tmp/ipykernel_74156/3054090517.py:8: FutureWarning: The default value of regex will change from True to False in a future version. In addition, single character regular expressions will *not* be treated as literal strings when regex=True.\n",
      "  base_carteira.SDATRASO = base_carteira.SDATRASO.str.replace('.', '').str.replace(',', '.').apply(lambda x: float(x))\n",
      "/tmp/ipykernel_74156/3054090517.py:9: FutureWarning: The default value of regex will change from True to False in a future version. In addition, single character regular expressions will *not* be treated as literal strings when regex=True.\n",
      "  base_carteira.VLPROVISAO = base_carteira.VLPROVISAO.str.replace('.', '').str.replace(',', '.').apply(lambda x: float(x))\n"
     ]
    },
    {
     "name": "stdout",
     "output_type": "stream",
     "text": [
      "contém 0 registros duplicados na base_carteira!\n",
      "contém 0 registros duplicados na base_originacao!\n"
     ]
    }
   ],
   "source": [
    "%run ./transform_and_create_tables.ipynb"
   ]
  },
  {
   "cell_type": "code",
   "execution_count": 5,
   "metadata": {},
   "outputs": [],
   "source": [
    "conn = sqlite3.connect('teste_ailos.db')\n",
    "\n",
    "base_originacao = pd.read_sql_query(\"SELECT * FROM base_originacao\", conn)\n",
    "base_carteira = pd.read_sql_query(\"SELECT * FROM base_carteira\", conn)"
   ]
  },
  {
   "cell_type": "code",
   "execution_count": 6,
   "metadata": {},
   "outputs": [],
   "source": [
    "%reload_ext sql\n",
    "%sql sqlite:///teste_ailos.db"
   ]
  },
  {
   "cell_type": "markdown",
   "metadata": {},
   "source": [
    "# RESOLUÇÃO DO EXERCÍCIO EM SQL\n",
    "\n",
    "### A) Calcule a quantidade de dias distintos DTCONTRATO e a soma dos VLCONTRATO dos contratos originados"
   ]
  },
  {
   "cell_type": "code",
   "execution_count": 7,
   "metadata": {},
   "outputs": [
    {
     "name": "stdout",
     "output_type": "stream",
     "text": [
      " * sqlite:///teste_ailos.db\n",
      "Done.\n"
     ]
    },
    {
     "data": {
      "text/html": [
       "<table>\n",
       "    <tr>\n",
       "        <th>index</th>\n",
       "        <th>COOPERATIVA</th>\n",
       "        <th>CPF</th>\n",
       "        <th>CONTA</th>\n",
       "        <th>CONTRATO</th>\n",
       "        <th>DSPRODUTO</th>\n",
       "        <th>DTCONTRATO</th>\n",
       "        <th>VLCONTRATO</th>\n",
       "        <th>VLPARCELA</th>\n",
       "        <th>QTPARCELAS</th>\n",
       "    </tr>\n",
       "    <tr>\n",
       "        <td>0</td>\n",
       "        <td>A</td>\n",
       "        <td>32</td>\n",
       "        <td>496314</td>\n",
       "        <td>677366</td>\n",
       "        <td>Financiamento</td>\n",
       "        <td>2021-10-13 00:00:00</td>\n",
       "        <td>4263.6</td>\n",
       "        <td>153.0</td>\n",
       "        <td>36.0</td>\n",
       "    </tr>\n",
       "    <tr>\n",
       "        <td>1</td>\n",
       "        <td>A</td>\n",
       "        <td>38</td>\n",
       "        <td>624412</td>\n",
       "        <td>644724</td>\n",
       "        <td>Empréstimo</td>\n",
       "        <td>2021-09-01 00:00:00</td>\n",
       "        <td>81.6</td>\n",
       "        <td>10.2</td>\n",
       "        <td>10.0</td>\n",
       "    </tr>\n",
       "    <tr>\n",
       "        <td>2</td>\n",
       "        <td>A</td>\n",
       "        <td>154</td>\n",
       "        <td>49834</td>\n",
       "        <td>349384</td>\n",
       "        <td>Empréstimo</td>\n",
       "        <td>2020-08-25 00:00:00</td>\n",
       "        <td>9761.4</td>\n",
       "        <td>204.0</td>\n",
       "        <td>72.0</td>\n",
       "    </tr>\n",
       "    <tr>\n",
       "        <td>3</td>\n",
       "        <td>A</td>\n",
       "        <td>186</td>\n",
       "        <td>398914</td>\n",
       "        <td>444074</td>\n",
       "        <td>Empréstimo</td>\n",
       "        <td>2021-01-08 00:00:00</td>\n",
       "        <td>4314.6</td>\n",
       "        <td>163.2</td>\n",
       "        <td>36.0</td>\n",
       "    </tr>\n",
       "    <tr>\n",
       "        <td>4</td>\n",
       "        <td>A</td>\n",
       "        <td>430</td>\n",
       "        <td>549582</td>\n",
       "        <td>372569</td>\n",
       "        <td>Empréstimo</td>\n",
       "        <td>2020-10-02 00:00:00</td>\n",
       "        <td>5548.8</td>\n",
       "        <td>183.6</td>\n",
       "        <td>48.0</td>\n",
       "    </tr>\n",
       "</table>"
      ],
      "text/plain": [
       "[(0, 'A', 32, 496314, 677366, 'Financiamento', '2021-10-13 00:00:00', 4263.6, 153.0, 36.0),\n",
       " (1, 'A', 38, 624412, 644724, 'Empréstimo', '2021-09-01 00:00:00', 81.6, 10.2, 10.0),\n",
       " (2, 'A', 154, 49834, 349384, 'Empréstimo', '2020-08-25 00:00:00', 9761.4, 204.0, 72.0),\n",
       " (3, 'A', 186, 398914, 444074, 'Empréstimo', '2021-01-08 00:00:00', 4314.6, 163.2, 36.0),\n",
       " (4, 'A', 430, 549582, 372569, 'Empréstimo', '2020-10-02 00:00:00', 5548.8, 183.6, 48.0)]"
      ]
     },
     "execution_count": 7,
     "metadata": {},
     "output_type": "execute_result"
    }
   ],
   "source": [
    "%%sql\n",
    "select * from base_originacao limit 5;"
   ]
  },
  {
   "cell_type": "code",
   "execution_count": 8,
   "metadata": {},
   "outputs": [
    {
     "name": "stdout",
     "output_type": "stream",
     "text": [
      " * sqlite:///teste_ailos.db\n",
      "Done.\n"
     ]
    },
    {
     "data": {
      "text/html": [
       "<table>\n",
       "    <tr>\n",
       "        <th>index</th>\n",
       "        <th>DTBASE</th>\n",
       "        <th>COOPERATIVA</th>\n",
       "        <th>CPF</th>\n",
       "        <th>CONTA</th>\n",
       "        <th>CONTRATO</th>\n",
       "        <th>DSPRODUTO</th>\n",
       "        <th>DTCONTRATO</th>\n",
       "        <th>VLCONTRATO</th>\n",
       "        <th>SDDEVEDOR</th>\n",
       "        <th>QTDIASATRASO</th>\n",
       "        <th>SDATRASO</th>\n",
       "        <th>VLPROVISAO</th>\n",
       "    </tr>\n",
       "    <tr>\n",
       "        <td>0</td>\n",
       "        <td>2021-01-31 00:00:00</td>\n",
       "        <td>A</td>\n",
       "        <td>154</td>\n",
       "        <td>49834</td>\n",
       "        <td>349384</td>\n",
       "        <td>Empréstimo</td>\n",
       "        <td>2020-08-25 00:00:00</td>\n",
       "        <td>9761.4</td>\n",
       "        <td>9557.4</td>\n",
       "        <td>0.0</td>\n",
       "        <td>0.0</td>\n",
       "        <td>30.6</td>\n",
       "    </tr>\n",
       "    <tr>\n",
       "        <td>1</td>\n",
       "        <td>2021-01-31 00:00:00</td>\n",
       "        <td>A</td>\n",
       "        <td>186</td>\n",
       "        <td>398914</td>\n",
       "        <td>444074</td>\n",
       "        <td>Empréstimo</td>\n",
       "        <td>2021-01-08 00:00:00</td>\n",
       "        <td>4314.6</td>\n",
       "        <td>4365.6</td>\n",
       "        <td>0.0</td>\n",
       "        <td>0.0</td>\n",
       "        <td>81.6</td>\n",
       "    </tr>\n",
       "    <tr>\n",
       "        <td>2</td>\n",
       "        <td>2021-01-31 00:00:00</td>\n",
       "        <td>A</td>\n",
       "        <td>430</td>\n",
       "        <td>549582</td>\n",
       "        <td>372569</td>\n",
       "        <td>Empréstimo</td>\n",
       "        <td>2020-10-02 00:00:00</td>\n",
       "        <td>5548.8</td>\n",
       "        <td>5273.4</td>\n",
       "        <td>0.0</td>\n",
       "        <td>0.0</td>\n",
       "        <td>20.4</td>\n",
       "    </tr>\n",
       "    <tr>\n",
       "        <td>3</td>\n",
       "        <td>2021-01-31 00:00:00</td>\n",
       "        <td>A</td>\n",
       "        <td>512</td>\n",
       "        <td>217818</td>\n",
       "        <td>223696</td>\n",
       "        <td>Empréstimo</td>\n",
       "        <td>2020-01-31 00:00:00</td>\n",
       "        <td>3111.0</td>\n",
       "        <td>2539.8</td>\n",
       "        <td>0.0</td>\n",
       "        <td>0.0</td>\n",
       "        <td>10.2</td>\n",
       "    </tr>\n",
       "    <tr>\n",
       "        <td>4</td>\n",
       "        <td>2021-01-31 00:00:00</td>\n",
       "        <td>A</td>\n",
       "        <td>754</td>\n",
       "        <td>546819</td>\n",
       "        <td>435007</td>\n",
       "        <td>Empréstimo</td>\n",
       "        <td>2020-12-23 00:00:00</td>\n",
       "        <td>601.8</td>\n",
       "        <td>601.8</td>\n",
       "        <td>19.0</td>\n",
       "        <td>601.8</td>\n",
       "        <td>10.2</td>\n",
       "    </tr>\n",
       "</table>"
      ],
      "text/plain": [
       "[(0, '2021-01-31 00:00:00', 'A', 154, 49834, 349384, 'Empréstimo', '2020-08-25 00:00:00', 9761.4, 9557.4, 0.0, 0.0, 30.6),\n",
       " (1, '2021-01-31 00:00:00', 'A', 186, 398914, 444074, 'Empréstimo', '2021-01-08 00:00:00', 4314.6, 4365.6, 0.0, 0.0, 81.6),\n",
       " (2, '2021-01-31 00:00:00', 'A', 430, 549582, 372569, 'Empréstimo', '2020-10-02 00:00:00', 5548.8, 5273.4, 0.0, 0.0, 20.4),\n",
       " (3, '2021-01-31 00:00:00', 'A', 512, 217818, 223696, 'Empréstimo', '2020-01-31 00:00:00', 3111.0, 2539.8, 0.0, 0.0, 10.2),\n",
       " (4, '2021-01-31 00:00:00', 'A', 754, 546819, 435007, 'Empréstimo', '2020-12-23 00:00:00', 601.8, 601.8, 19.0, 601.8, 10.2)]"
      ]
     },
     "execution_count": 8,
     "metadata": {},
     "output_type": "execute_result"
    }
   ],
   "source": [
    "%%sql\n",
    "select * from base_carteira limit 5;"
   ]
  },
  {
   "cell_type": "code",
   "execution_count": 9,
   "metadata": {},
   "outputs": [
    {
     "name": "stdout",
     "output_type": "stream",
     "text": [
      " * sqlite:///teste_ailos.db\n",
      "Done.\n"
     ]
    },
    {
     "data": {
      "text/html": [
       "<table>\n",
       "    <tr>\n",
       "        <th>qnt_dias</th>\n",
       "        <th>sum_contrato</th>\n",
       "    </tr>\n",
       "    <tr>\n",
       "        <td>921</td>\n",
       "        <td>32816287.0</td>\n",
       "    </tr>\n",
       "</table>"
      ],
      "text/plain": [
       "[(921, 32816287.0)]"
      ]
     },
     "execution_count": 9,
     "metadata": {},
     "output_type": "execute_result"
    }
   ],
   "source": [
    "%%sql\n",
    "select \n",
    "    count(distinct DTCONTRATO) as qnt_dias, round(sum(VLCONTRATO)) as sum_contrato\n",
    "from\n",
    "    base_originacao;"
   ]
  },
  {
   "cell_type": "markdown",
   "metadata": {},
   "source": [
    "### B) Para DTBASE = 31/12/2021 da base \"base_carteira.csv\", faça a soma dos SDDEVEDOR e a média simples de QTDIASATRASO"
   ]
  },
  {
   "cell_type": "code",
   "execution_count": 10,
   "metadata": {},
   "outputs": [
    {
     "name": "stdout",
     "output_type": "stream",
     "text": [
      " * sqlite:///teste_ailos.db\n",
      "Done.\n"
     ]
    },
    {
     "data": {
      "text/html": [
       "<table>\n",
       "    <tr>\n",
       "        <th>sum_saldo_dev</th>\n",
       "        <th>avg_dias_atraso</th>\n",
       "    </tr>\n",
       "    <tr>\n",
       "        <td>18183172.800000023</td>\n",
       "        <td>31.502131287297527</td>\n",
       "    </tr>\n",
       "</table>"
      ],
      "text/plain": [
       "[(18183172.800000023, 31.502131287297527)]"
      ]
     },
     "execution_count": 10,
     "metadata": {},
     "output_type": "execute_result"
    }
   ],
   "source": [
    "%%sql\n",
    "select \n",
    "    sum(SDDEVEDOR) as sum_saldo_dev, avg(QTDIASATRASO) as avg_dias_atraso\n",
    "from \n",
    "    base_carteira\n",
    "where\n",
    "    DTBASE >= '2021-12-31';"
   ]
  },
  {
   "cell_type": "markdown",
   "metadata": {},
   "source": [
    "# RESOLUÇÃO DO EXERCÍCIO EM PYTHON\n",
    "\n",
    "### A) Calcule a quantidade de dias distintos DTCONTRATO e a soma dos VLCONTRATO dos contratos originados"
   ]
  },
  {
   "cell_type": "code",
   "execution_count": 11,
   "metadata": {},
   "outputs": [
    {
     "data": {
      "text/html": [
       "<div>\n",
       "<style scoped>\n",
       "    .dataframe tbody tr th:only-of-type {\n",
       "        vertical-align: middle;\n",
       "    }\n",
       "\n",
       "    .dataframe tbody tr th {\n",
       "        vertical-align: top;\n",
       "    }\n",
       "\n",
       "    .dataframe thead th {\n",
       "        text-align: right;\n",
       "    }\n",
       "</style>\n",
       "<table border=\"1\" class=\"dataframe\">\n",
       "  <thead>\n",
       "    <tr style=\"text-align: right;\">\n",
       "      <th></th>\n",
       "      <th>index</th>\n",
       "      <th>COOPERATIVA</th>\n",
       "      <th>CPF</th>\n",
       "      <th>CONTA</th>\n",
       "      <th>CONTRATO</th>\n",
       "      <th>DSPRODUTO</th>\n",
       "      <th>DTCONTRATO</th>\n",
       "      <th>VLCONTRATO</th>\n",
       "      <th>VLPARCELA</th>\n",
       "      <th>QTPARCELAS</th>\n",
       "    </tr>\n",
       "  </thead>\n",
       "  <tbody>\n",
       "    <tr>\n",
       "      <th>0</th>\n",
       "      <td>0</td>\n",
       "      <td>A</td>\n",
       "      <td>32</td>\n",
       "      <td>496314</td>\n",
       "      <td>677366</td>\n",
       "      <td>Financiamento</td>\n",
       "      <td>2021-10-13 00:00:00</td>\n",
       "      <td>4263.6</td>\n",
       "      <td>153.0</td>\n",
       "      <td>36.0</td>\n",
       "    </tr>\n",
       "    <tr>\n",
       "      <th>1</th>\n",
       "      <td>1</td>\n",
       "      <td>A</td>\n",
       "      <td>38</td>\n",
       "      <td>624412</td>\n",
       "      <td>644724</td>\n",
       "      <td>Empréstimo</td>\n",
       "      <td>2021-09-01 00:00:00</td>\n",
       "      <td>81.6</td>\n",
       "      <td>10.2</td>\n",
       "      <td>10.0</td>\n",
       "    </tr>\n",
       "    <tr>\n",
       "      <th>2</th>\n",
       "      <td>2</td>\n",
       "      <td>A</td>\n",
       "      <td>154</td>\n",
       "      <td>49834</td>\n",
       "      <td>349384</td>\n",
       "      <td>Empréstimo</td>\n",
       "      <td>2020-08-25 00:00:00</td>\n",
       "      <td>9761.4</td>\n",
       "      <td>204.0</td>\n",
       "      <td>72.0</td>\n",
       "    </tr>\n",
       "    <tr>\n",
       "      <th>3</th>\n",
       "      <td>3</td>\n",
       "      <td>A</td>\n",
       "      <td>186</td>\n",
       "      <td>398914</td>\n",
       "      <td>444074</td>\n",
       "      <td>Empréstimo</td>\n",
       "      <td>2021-01-08 00:00:00</td>\n",
       "      <td>4314.6</td>\n",
       "      <td>163.2</td>\n",
       "      <td>36.0</td>\n",
       "    </tr>\n",
       "    <tr>\n",
       "      <th>4</th>\n",
       "      <td>4</td>\n",
       "      <td>A</td>\n",
       "      <td>430</td>\n",
       "      <td>549582</td>\n",
       "      <td>372569</td>\n",
       "      <td>Empréstimo</td>\n",
       "      <td>2020-10-02 00:00:00</td>\n",
       "      <td>5548.8</td>\n",
       "      <td>183.6</td>\n",
       "      <td>48.0</td>\n",
       "    </tr>\n",
       "  </tbody>\n",
       "</table>\n",
       "</div>"
      ],
      "text/plain": [
       "   index COOPERATIVA  CPF   CONTA  CONTRATO      DSPRODUTO  \\\n",
       "0      0           A   32  496314    677366  Financiamento   \n",
       "1      1           A   38  624412    644724     Empréstimo   \n",
       "2      2           A  154   49834    349384     Empréstimo   \n",
       "3      3           A  186  398914    444074     Empréstimo   \n",
       "4      4           A  430  549582    372569     Empréstimo   \n",
       "\n",
       "            DTCONTRATO  VLCONTRATO  VLPARCELA  QTPARCELAS  \n",
       "0  2021-10-13 00:00:00      4263.6      153.0        36.0  \n",
       "1  2021-09-01 00:00:00        81.6       10.2        10.0  \n",
       "2  2020-08-25 00:00:00      9761.4      204.0        72.0  \n",
       "3  2021-01-08 00:00:00      4314.6      163.2        36.0  \n",
       "4  2020-10-02 00:00:00      5548.8      183.6        48.0  "
      ]
     },
     "execution_count": 11,
     "metadata": {},
     "output_type": "execute_result"
    }
   ],
   "source": [
    "base_originacao.head()"
   ]
  },
  {
   "cell_type": "code",
   "execution_count": 12,
   "metadata": {},
   "outputs": [
    {
     "name": "stdout",
     "output_type": "stream",
     "text": [
      "A quantidade de dias distintos é:  921\n",
      "A soma dos contratos é:  32816286.6\n"
     ]
    }
   ],
   "source": [
    "Qnt_dias = base_originacao.DTCONTRATO.unique().shape[0]\n",
    "Sum_contrato = round(base_originacao.VLCONTRATO.sum(), 2)\n",
    "\n",
    "print('A quantidade de dias distintos é: ', Qnt_dias)\n",
    "print('A soma dos contratos é: ', Sum_contrato)"
   ]
  },
  {
   "cell_type": "markdown",
   "metadata": {},
   "source": [
    "### B) Para DTBASE = 31/12/2021 da base \"base_carteira.csv\", faça a soma dos SDDEVEDOR e a média simples de QTDIASATRASO"
   ]
  },
  {
   "cell_type": "code",
   "execution_count": 13,
   "metadata": {},
   "outputs": [
    {
     "name": "stdout",
     "output_type": "stream",
     "text": [
      "A soma do saldo devedor é:  18183172.799999997\n",
      "A média dos dias de atraso é:  31.502131287297527\n"
     ]
    }
   ],
   "source": [
    "base_carteira.head()\n",
    "\n",
    "sum_saldo_dev = base_carteira[base_carteira.DTBASE >= '2021-12-31'].SDDEVEDOR.sum()\n",
    "avg_dias_atraso = base_carteira[base_carteira.DTBASE >= '2021-12-31'].QTDIASATRASO.mean()\n",
    "\n",
    "print('A soma do saldo devedor é: ', sum_saldo_dev)\n",
    "print('A média dos dias de atraso é: ', avg_dias_atraso)"
   ]
  }
 ],
 "metadata": {
  "kernelspec": {
   "display_name": "Python 3.10.4 64-bit",
   "language": "python",
   "name": "python3"
  },
  "language_info": {
   "codemirror_mode": {
    "name": "ipython",
    "version": 3
   },
   "file_extension": ".py",
   "mimetype": "text/x-python",
   "name": "python",
   "nbconvert_exporter": "python",
   "pygments_lexer": "ipython3",
   "version": "3.10.4"
  },
  "orig_nbformat": 4,
  "vscode": {
   "interpreter": {
    "hash": "916dbcbb3f70747c44a77c7bcd40155683ae19c65e1c03b4aa3499c5328201f1"
   }
  }
 },
 "nbformat": 4,
 "nbformat_minor": 2
}
