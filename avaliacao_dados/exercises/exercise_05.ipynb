{
 "cells": [
  {
   "cell_type": "code",
   "execution_count": 1,
   "metadata": {},
   "outputs": [],
   "source": [
    "import pandas as pd\n",
    "import numpy as np\n",
    "import sqlite3"
   ]
  },
  {
   "cell_type": "code",
   "execution_count": 2,
   "metadata": {},
   "outputs": [
    {
     "name": "stdout",
     "output_type": "stream",
     "text": [
      "<class 'str'>\n"
     ]
    },
    {
     "name": "stderr",
     "output_type": "stream",
     "text": [
      "/tmp/ipykernel_74600/3054090517.py:3: FutureWarning: The default value of regex will change from True to False in a future version. In addition, single character regular expressions will *not* be treated as literal strings when regex=True.\n",
      "  base_originacao.VLCONTRATO = base_originacao.VLCONTRATO.str.replace('.', '').str.replace(',', '.').apply(lambda x: float(x))\n",
      "/tmp/ipykernel_74600/3054090517.py:4: FutureWarning: The default value of regex will change from True to False in a future version. In addition, single character regular expressions will *not* be treated as literal strings when regex=True.\n",
      "  base_originacao.VLPARCELA = base_originacao.VLPARCELA.str.replace('.', '').str.replace(',', '.').apply(lambda x: float(x))\n",
      "/tmp/ipykernel_74600/3054090517.py:6: FutureWarning: The default value of regex will change from True to False in a future version. In addition, single character regular expressions will *not* be treated as literal strings when regex=True.\n",
      "  base_carteira.VLCONTRATO = base_carteira.VLCONTRATO.str.replace('.', '').str.replace(',', '.').apply(lambda x: float(x))\n",
      "/tmp/ipykernel_74600/3054090517.py:7: FutureWarning: The default value of regex will change from True to False in a future version. In addition, single character regular expressions will *not* be treated as literal strings when regex=True.\n",
      "  base_carteira.SDDEVEDOR = base_carteira.SDDEVEDOR.str.replace('.', '').str.replace(',', '.').apply(lambda x: float(x))\n",
      "/tmp/ipykernel_74600/3054090517.py:8: FutureWarning: The default value of regex will change from True to False in a future version. In addition, single character regular expressions will *not* be treated as literal strings when regex=True.\n",
      "  base_carteira.SDATRASO = base_carteira.SDATRASO.str.replace('.', '').str.replace(',', '.').apply(lambda x: float(x))\n",
      "/tmp/ipykernel_74600/3054090517.py:9: FutureWarning: The default value of regex will change from True to False in a future version. In addition, single character regular expressions will *not* be treated as literal strings when regex=True.\n",
      "  base_carteira.VLPROVISAO = base_carteira.VLPROVISAO.str.replace('.', '').str.replace(',', '.').apply(lambda x: float(x))\n"
     ]
    },
    {
     "name": "stdout",
     "output_type": "stream",
     "text": [
      "contém 0 registros duplicados na base_carteira!\n",
      "contém 0 registros duplicados na base_originacao!\n"
     ]
    }
   ],
   "source": [
    "%run ./transform_and_create_tables.ipynb"
   ]
  },
  {
   "cell_type": "code",
   "execution_count": 3,
   "metadata": {},
   "outputs": [],
   "source": [
    "conn = sqlite3.connect('teste_ailos.db')\n",
    "\n",
    "base_originacao = pd.read_sql_query(\"SELECT * FROM base_originacao\", conn)\n",
    "base_carteira = pd.read_sql_query(\"SELECT * FROM base_carteira\", conn)"
   ]
  },
  {
   "cell_type": "code",
   "execution_count": 4,
   "metadata": {},
   "outputs": [],
   "source": [
    "%reload_ext sql\n",
    "%sql sqlite:///teste_ailos.db"
   ]
  },
  {
   "cell_type": "markdown",
   "metadata": {},
   "source": [
    "# RESOLUÇÃO DO EXERCÍCIO EM SQL\n",
    "Identifique o volume de contratos (por cooperativa) que estão em 31/jul/2021 e que **não estão** em 31/ago/2021. Utilize como chaves: COOPERATIVA, CPF, CONTA, CONTRATO, DSPRODUTO e VLCONTRATO"
   ]
  },
  {
   "cell_type": "code",
   "execution_count": 5,
   "metadata": {},
   "outputs": [
    {
     "name": "stdout",
     "output_type": "stream",
     "text": [
      " * sqlite:///teste_ailos.db\n",
      "Done.\n"
     ]
    },
    {
     "data": {
      "text/html": [
       "<table>\n",
       "    <tr>\n",
       "        <th>COOPERATIVA</th>\n",
       "        <th>Qnt</th>\n",
       "    </tr>\n",
       "    <tr>\n",
       "        <td>A</td>\n",
       "        <td>299</td>\n",
       "    </tr>\n",
       "    <tr>\n",
       "        <td>B</td>\n",
       "        <td>5</td>\n",
       "    </tr>\n",
       "    <tr>\n",
       "        <td>C</td>\n",
       "        <td>10</td>\n",
       "    </tr>\n",
       "    <tr>\n",
       "        <td>D</td>\n",
       "        <td>14</td>\n",
       "    </tr>\n",
       "    <tr>\n",
       "        <td>E</td>\n",
       "        <td>25</td>\n",
       "    </tr>\n",
       "</table>"
      ],
      "text/plain": [
       "[('A', 299), ('B', 5), ('C', 10), ('D', 14), ('E', 25)]"
      ]
     },
     "execution_count": 5,
     "metadata": {},
     "output_type": "execute_result"
    }
   ],
   "source": [
    "%%sql\n",
    "with jul_contracts as (\n",
    "    select \n",
    "        DTBASE\n",
    "        ,COOPERATIVA\n",
    "        ,CPF\n",
    "        ,CONTA\n",
    "        ,CONTRATO\n",
    "        ,DSPRODUTO\n",
    "        ,VLCONTRATO \n",
    "    from \n",
    "        base_carteira\n",
    "    where\n",
    "        date(DTBASE) = '2021-07-31'\n",
    "),\n",
    "\n",
    "ago_contracts as (\n",
    "    select \n",
    "        DTBASE\n",
    "        ,COOPERATIVA\n",
    "        ,CPF\n",
    "        ,CONTA\n",
    "        ,CONTRATO\n",
    "        ,DSPRODUTO\n",
    "        ,VLCONTRATO \n",
    "    from \n",
    "        base_carteira\n",
    "    where\n",
    "        date(DTBASE) = '2021-08-31'\n",
    ")\n",
    "\n",
    "select \n",
    "    jul_contracts.COOPERATIVA\n",
    "    ,count(distinct jul_contracts.CONTRATO) as Qnt\n",
    "from \n",
    "    jul_contracts\n",
    "left join \n",
    "    ago_contracts\n",
    "        on jul_contracts.COOPERATIVA = ago_contracts.COOPERATIVA\n",
    "        and jul_contracts.CPF = ago_contracts.CPF\n",
    "        and jul_contracts.CONTA = ago_contracts.CONTA\n",
    "        and jul_contracts.CONTRATO = ago_contracts.CONTRATO\n",
    "        and jul_contracts.DSPRODUTO = ago_contracts.DSPRODUTO\n",
    "        and jul_contracts.VLCONTRATO = ago_contracts.VLCONTRATO\n",
    "where \n",
    "    ago_contracts.CONTRATO is null\n",
    "group by \n",
    "    jul_contracts.COOPERATIVA;"
   ]
  },
  {
   "cell_type": "markdown",
   "metadata": {},
   "source": [
    "# RESOLUÇÃO DO EXERCÍCIO EM PYTHON\n",
    "Identifique o volume de contratos (por cooperativa) que estão em 31/jul/2021 e que **não estão** em 31/ago/2021. Utilize como chaves: COOPERATIVA, CPF, CONTA, CONTRATO, DSPRODUTO e VLCONTRATO"
   ]
  },
  {
   "cell_type": "code",
   "execution_count": 6,
   "metadata": {},
   "outputs": [],
   "source": [
    "# criando os dataframes filtrados\n",
    "jul_contracts = base_carteira[base_carteira.DTBASE == '2021-07-31 00:00:00']\n",
    "ago_contracts = base_carteira[base_carteira.DTBASE == '2021-08-31 00:00:00']"
   ]
  },
  {
   "cell_type": "code",
   "execution_count": 7,
   "metadata": {},
   "outputs": [
    {
     "data": {
      "text/html": [
       "<div>\n",
       "<style scoped>\n",
       "    .dataframe tbody tr th:only-of-type {\n",
       "        vertical-align: middle;\n",
       "    }\n",
       "\n",
       "    .dataframe tbody tr th {\n",
       "        vertical-align: top;\n",
       "    }\n",
       "\n",
       "    .dataframe thead th {\n",
       "        text-align: right;\n",
       "    }\n",
       "</style>\n",
       "<table border=\"1\" class=\"dataframe\">\n",
       "  <thead>\n",
       "    <tr style=\"text-align: right;\">\n",
       "      <th></th>\n",
       "      <th>index</th>\n",
       "      <th>DTBASE</th>\n",
       "      <th>COOPERATIVA</th>\n",
       "      <th>CPF</th>\n",
       "      <th>CONTA</th>\n",
       "      <th>CONTRATO</th>\n",
       "      <th>DSPRODUTO</th>\n",
       "      <th>DTCONTRATO</th>\n",
       "      <th>VLCONTRATO</th>\n",
       "      <th>SDDEVEDOR</th>\n",
       "      <th>QTDIASATRASO</th>\n",
       "      <th>SDATRASO</th>\n",
       "      <th>VLPROVISAO</th>\n",
       "    </tr>\n",
       "  </thead>\n",
       "  <tbody>\n",
       "    <tr>\n",
       "      <th>22470</th>\n",
       "      <td>22470</td>\n",
       "      <td>2021-08-31 00:00:00</td>\n",
       "      <td>A</td>\n",
       "      <td>154</td>\n",
       "      <td>49834</td>\n",
       "      <td>349384</td>\n",
       "      <td>Empréstimo</td>\n",
       "      <td>2020-08-25 00:00:00</td>\n",
       "      <td>9761.4</td>\n",
       "      <td>8802.6</td>\n",
       "      <td>0.0</td>\n",
       "      <td>0.0</td>\n",
       "      <td>30.6</td>\n",
       "    </tr>\n",
       "    <tr>\n",
       "      <th>22471</th>\n",
       "      <td>22471</td>\n",
       "      <td>2021-08-31 00:00:00</td>\n",
       "      <td>A</td>\n",
       "      <td>186</td>\n",
       "      <td>398914</td>\n",
       "      <td>444074</td>\n",
       "      <td>Empréstimo</td>\n",
       "      <td>2021-01-08 00:00:00</td>\n",
       "      <td>4314.6</td>\n",
       "      <td>3702.6</td>\n",
       "      <td>0.0</td>\n",
       "      <td>0.0</td>\n",
       "      <td>20.4</td>\n",
       "    </tr>\n",
       "    <tr>\n",
       "      <th>22472</th>\n",
       "      <td>22472</td>\n",
       "      <td>2021-08-31 00:00:00</td>\n",
       "      <td>A</td>\n",
       "      <td>430</td>\n",
       "      <td>549582</td>\n",
       "      <td>372569</td>\n",
       "      <td>Empréstimo</td>\n",
       "      <td>2020-10-02 00:00:00</td>\n",
       "      <td>5548.8</td>\n",
       "      <td>4732.8</td>\n",
       "      <td>0.0</td>\n",
       "      <td>0.0</td>\n",
       "      <td>30.6</td>\n",
       "    </tr>\n",
       "    <tr>\n",
       "      <th>22473</th>\n",
       "      <td>22473</td>\n",
       "      <td>2021-08-31 00:00:00</td>\n",
       "      <td>A</td>\n",
       "      <td>512</td>\n",
       "      <td>217818</td>\n",
       "      <td>223696</td>\n",
       "      <td>Empréstimo</td>\n",
       "      <td>2020-01-31 00:00:00</td>\n",
       "      <td>3111.0</td>\n",
       "      <td>2121.6</td>\n",
       "      <td>0.0</td>\n",
       "      <td>0.0</td>\n",
       "      <td>10.2</td>\n",
       "    </tr>\n",
       "    <tr>\n",
       "      <th>22474</th>\n",
       "      <td>22474</td>\n",
       "      <td>2021-08-31 00:00:00</td>\n",
       "      <td>A</td>\n",
       "      <td>1142</td>\n",
       "      <td>126440</td>\n",
       "      <td>498576</td>\n",
       "      <td>Financiamento</td>\n",
       "      <td>2021-04-05 00:00:00</td>\n",
       "      <td>106681.8</td>\n",
       "      <td>107018.4</td>\n",
       "      <td>0.0</td>\n",
       "      <td>0.0</td>\n",
       "      <td>316.2</td>\n",
       "    </tr>\n",
       "  </tbody>\n",
       "</table>\n",
       "</div>"
      ],
      "text/plain": [
       "       index               DTBASE COOPERATIVA   CPF   CONTA  CONTRATO  \\\n",
       "22470  22470  2021-08-31 00:00:00           A   154   49834    349384   \n",
       "22471  22471  2021-08-31 00:00:00           A   186  398914    444074   \n",
       "22472  22472  2021-08-31 00:00:00           A   430  549582    372569   \n",
       "22473  22473  2021-08-31 00:00:00           A   512  217818    223696   \n",
       "22474  22474  2021-08-31 00:00:00           A  1142  126440    498576   \n",
       "\n",
       "           DSPRODUTO           DTCONTRATO  VLCONTRATO  SDDEVEDOR  \\\n",
       "22470     Empréstimo  2020-08-25 00:00:00      9761.4     8802.6   \n",
       "22471     Empréstimo  2021-01-08 00:00:00      4314.6     3702.6   \n",
       "22472     Empréstimo  2020-10-02 00:00:00      5548.8     4732.8   \n",
       "22473     Empréstimo  2020-01-31 00:00:00      3111.0     2121.6   \n",
       "22474  Financiamento  2021-04-05 00:00:00    106681.8   107018.4   \n",
       "\n",
       "       QTDIASATRASO  SDATRASO  VLPROVISAO  \n",
       "22470           0.0       0.0        30.6  \n",
       "22471           0.0       0.0        20.4  \n",
       "22472           0.0       0.0        30.6  \n",
       "22473           0.0       0.0        10.2  \n",
       "22474           0.0       0.0       316.2  "
      ]
     },
     "execution_count": 7,
     "metadata": {},
     "output_type": "execute_result"
    }
   ],
   "source": [
    "ago_contracts.head()"
   ]
  },
  {
   "cell_type": "code",
   "execution_count": 8,
   "metadata": {},
   "outputs": [],
   "source": [
    "# mergeando os dois dataframes pelas chaves indicadas\n",
    "check_df = jul_contracts.merge(ago_contracts, how='left', on=['COOPERATIVA', 'CPF', 'CONTA', 'CONTRATO', 'DSPRODUTO', 'VLCONTRATO'])"
   ]
  },
  {
   "cell_type": "code",
   "execution_count": 9,
   "metadata": {},
   "outputs": [],
   "source": [
    "# alterando o check_df para conter só os valores que existem em Jul mas não existem em Ago\n",
    "check_df = check_df[check_df.index_y.isnull() == True]"
   ]
  },
  {
   "cell_type": "code",
   "execution_count": 10,
   "metadata": {},
   "outputs": [
    {
     "data": {
      "text/plain": [
       "COOPERATIVA\n",
       "A    299\n",
       "B      5\n",
       "C     10\n",
       "D     14\n",
       "E     25\n",
       "Name: CONTRATO, dtype: int64"
      ]
     },
     "execution_count": 10,
     "metadata": {},
     "output_type": "execute_result"
    }
   ],
   "source": [
    "check_df.groupby('COOPERATIVA')['CONTRATO'].count()"
   ]
  }
 ],
 "metadata": {
  "kernelspec": {
   "display_name": "Python 3.10.4 64-bit",
   "language": "python",
   "name": "python3"
  },
  "language_info": {
   "codemirror_mode": {
    "name": "ipython",
    "version": 3
   },
   "file_extension": ".py",
   "mimetype": "text/x-python",
   "name": "python",
   "nbconvert_exporter": "python",
   "pygments_lexer": "ipython3",
   "version": "3.10.4"
  },
  "orig_nbformat": 4,
  "vscode": {
   "interpreter": {
    "hash": "916dbcbb3f70747c44a77c7bcd40155683ae19c65e1c03b4aa3499c5328201f1"
   }
  }
 },
 "nbformat": 4,
 "nbformat_minor": 2
}
