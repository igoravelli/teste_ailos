{
 "cells": [
  {
   "cell_type": "code",
   "execution_count": 1,
   "metadata": {},
   "outputs": [],
   "source": [
    "import pandas as pd\n",
    "import numpy as np\n",
    "import sqlite3"
   ]
  },
  {
   "cell_type": "code",
   "execution_count": 2,
   "metadata": {},
   "outputs": [
    {
     "name": "stdout",
     "output_type": "stream",
     "text": [
      "<class 'str'>\n"
     ]
    },
    {
     "name": "stderr",
     "output_type": "stream",
     "text": [
      "/tmp/ipykernel_74673/3054090517.py:3: FutureWarning: The default value of regex will change from True to False in a future version. In addition, single character regular expressions will *not* be treated as literal strings when regex=True.\n",
      "  base_originacao.VLCONTRATO = base_originacao.VLCONTRATO.str.replace('.', '').str.replace(',', '.').apply(lambda x: float(x))\n",
      "/tmp/ipykernel_74673/3054090517.py:4: FutureWarning: The default value of regex will change from True to False in a future version. In addition, single character regular expressions will *not* be treated as literal strings when regex=True.\n",
      "  base_originacao.VLPARCELA = base_originacao.VLPARCELA.str.replace('.', '').str.replace(',', '.').apply(lambda x: float(x))\n",
      "/tmp/ipykernel_74673/3054090517.py:6: FutureWarning: The default value of regex will change from True to False in a future version. In addition, single character regular expressions will *not* be treated as literal strings when regex=True.\n",
      "  base_carteira.VLCONTRATO = base_carteira.VLCONTRATO.str.replace('.', '').str.replace(',', '.').apply(lambda x: float(x))\n",
      "/tmp/ipykernel_74673/3054090517.py:7: FutureWarning: The default value of regex will change from True to False in a future version. In addition, single character regular expressions will *not* be treated as literal strings when regex=True.\n",
      "  base_carteira.SDDEVEDOR = base_carteira.SDDEVEDOR.str.replace('.', '').str.replace(',', '.').apply(lambda x: float(x))\n",
      "/tmp/ipykernel_74673/3054090517.py:8: FutureWarning: The default value of regex will change from True to False in a future version. In addition, single character regular expressions will *not* be treated as literal strings when regex=True.\n",
      "  base_carteira.SDATRASO = base_carteira.SDATRASO.str.replace('.', '').str.replace(',', '.').apply(lambda x: float(x))\n",
      "/tmp/ipykernel_74673/3054090517.py:9: FutureWarning: The default value of regex will change from True to False in a future version. In addition, single character regular expressions will *not* be treated as literal strings when regex=True.\n",
      "  base_carteira.VLPROVISAO = base_carteira.VLPROVISAO.str.replace('.', '').str.replace(',', '.').apply(lambda x: float(x))\n"
     ]
    },
    {
     "name": "stdout",
     "output_type": "stream",
     "text": [
      "contém 0 registros duplicados na base_carteira!\n",
      "contém 0 registros duplicados na base_originacao!\n"
     ]
    }
   ],
   "source": [
    "%run ./transform_and_create_tables.ipynb"
   ]
  },
  {
   "cell_type": "code",
   "execution_count": 3,
   "metadata": {},
   "outputs": [],
   "source": [
    "conn = sqlite3.connect('teste_ailos.db')\n",
    "\n",
    "base_originacao = pd.read_sql_query(\"SELECT * FROM base_originacao\", conn)\n",
    "base_carteira = pd.read_sql_query(\"SELECT * FROM base_carteira\", conn)"
   ]
  },
  {
   "cell_type": "code",
   "execution_count": 4,
   "metadata": {},
   "outputs": [],
   "source": [
    "%reload_ext sql\n",
    "%sql sqlite:///teste_ailos.db"
   ]
  },
  {
   "cell_type": "markdown",
   "metadata": {},
   "source": [
    "# RESOLUÇÃO DO EXERCÍCIO 06\n",
    "Com base nos dois arquivos disponibilizados (base_origincacao.csv e base_carteira.csv), crie um sumário executivo da cooperativa B, podendo fazer uso dos resultados obtidos nos exercícios anteriores."
   ]
  },
  {
   "cell_type": "code",
   "execution_count": 7,
   "metadata": {},
   "outputs": [],
   "source": [
    "coop_B_carteira = base_carteira[base_carteira.COOPERATIVA == 'B']\n",
    "coop_B_originacao = base_originacao[base_originacao.COOPERATIVA == 'B']"
   ]
  },
  {
   "cell_type": "code",
   "execution_count": 8,
   "metadata": {},
   "outputs": [],
   "source": [
    "coop_B_carteira.to_csv('~/teste_ailos/avaliacao_dados/base_files/coop_B_carteira.csv', index=False)\n",
    "coop_B_originacao.to_csv('~/teste_ailos/avaliacao_dados/base_files/coop_B_originacao.csv', index=False)"
   ]
  },
  {
   "cell_type": "code",
   "execution_count": null,
   "metadata": {},
   "outputs": [],
   "source": []
  }
 ],
 "metadata": {
  "kernelspec": {
   "display_name": "Python 3.10.4 64-bit",
   "language": "python",
   "name": "python3"
  },
  "language_info": {
   "codemirror_mode": {
    "name": "ipython",
    "version": 3
   },
   "file_extension": ".py",
   "mimetype": "text/x-python",
   "name": "python",
   "nbconvert_exporter": "python",
   "pygments_lexer": "ipython3",
   "version": "3.10.4"
  },
  "orig_nbformat": 4,
  "vscode": {
   "interpreter": {
    "hash": "916dbcbb3f70747c44a77c7bcd40155683ae19c65e1c03b4aa3499c5328201f1"
   }
  }
 },
 "nbformat": 4,
 "nbformat_minor": 2
}
