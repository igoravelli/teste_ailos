{
 "cells": [
  {
   "cell_type": "code",
   "execution_count": 54,
   "metadata": {},
   "outputs": [],
   "source": [
    "import pandas as pd\n",
    "import numpy as np\n",
    "import sqlite3"
   ]
  },
  {
   "cell_type": "code",
   "execution_count": 55,
   "metadata": {},
   "outputs": [
    {
     "name": "stdout",
     "output_type": "stream",
     "text": [
      "<class 'str'>\n"
     ]
    },
    {
     "name": "stderr",
     "output_type": "stream",
     "text": [
      "/tmp/ipykernel_76847/3054090517.py:3: FutureWarning: The default value of regex will change from True to False in a future version. In addition, single character regular expressions will *not* be treated as literal strings when regex=True.\n",
      "  base_originacao.VLCONTRATO = base_originacao.VLCONTRATO.str.replace('.', '').str.replace(',', '.').apply(lambda x: float(x))\n",
      "/tmp/ipykernel_76847/3054090517.py:4: FutureWarning: The default value of regex will change from True to False in a future version. In addition, single character regular expressions will *not* be treated as literal strings when regex=True.\n",
      "  base_originacao.VLPARCELA = base_originacao.VLPARCELA.str.replace('.', '').str.replace(',', '.').apply(lambda x: float(x))\n",
      "/tmp/ipykernel_76847/3054090517.py:6: FutureWarning: The default value of regex will change from True to False in a future version. In addition, single character regular expressions will *not* be treated as literal strings when regex=True.\n",
      "  base_carteira.VLCONTRATO = base_carteira.VLCONTRATO.str.replace('.', '').str.replace(',', '.').apply(lambda x: float(x))\n",
      "/tmp/ipykernel_76847/3054090517.py:7: FutureWarning: The default value of regex will change from True to False in a future version. In addition, single character regular expressions will *not* be treated as literal strings when regex=True.\n",
      "  base_carteira.SDDEVEDOR = base_carteira.SDDEVEDOR.str.replace('.', '').str.replace(',', '.').apply(lambda x: float(x))\n",
      "/tmp/ipykernel_76847/3054090517.py:8: FutureWarning: The default value of regex will change from True to False in a future version. In addition, single character regular expressions will *not* be treated as literal strings when regex=True.\n",
      "  base_carteira.SDATRASO = base_carteira.SDATRASO.str.replace('.', '').str.replace(',', '.').apply(lambda x: float(x))\n",
      "/tmp/ipykernel_76847/3054090517.py:9: FutureWarning: The default value of regex will change from True to False in a future version. In addition, single character regular expressions will *not* be treated as literal strings when regex=True.\n",
      "  base_carteira.VLPROVISAO = base_carteira.VLPROVISAO.str.replace('.', '').str.replace(',', '.').apply(lambda x: float(x))\n"
     ]
    },
    {
     "name": "stdout",
     "output_type": "stream",
     "text": [
      "contém 0 registros duplicados na base_carteira!\n",
      "contém 0 registros duplicados na base_originacao!\n"
     ]
    }
   ],
   "source": [
    "%run ./transform_and_create_tables.ipynb"
   ]
  },
  {
   "cell_type": "code",
   "execution_count": 56,
   "metadata": {},
   "outputs": [],
   "source": [
    "conn = sqlite3.connect('teste_ailos.db')\n",
    "\n",
    "base_originacao = pd.read_sql_query(\"SELECT * FROM base_originacao\", conn)\n",
    "base_carteira = pd.read_sql_query(\"SELECT * FROM base_carteira\", conn)"
   ]
  },
  {
   "cell_type": "code",
   "execution_count": 57,
   "metadata": {},
   "outputs": [],
   "source": [
    "%reload_ext sql\n",
    "%sql sqlite:///teste_ailos.db"
   ]
  },
  {
   "cell_type": "markdown",
   "metadata": {},
   "source": [
    "# RESOLUÇÃO DO EXERCÍCIO 06\n",
    "Com base nos dois arquivos disponibilizados (base_origincacao.csv e base_carteira.csv), crie um sumário executivo da cooperativa B, podendo fazer uso dos resultados obtidos nos exercícios anteriores."
   ]
  },
  {
   "cell_type": "code",
   "execution_count": 58,
   "metadata": {},
   "outputs": [],
   "source": [
    "coop_B_carteira = base_carteira[base_carteira.COOPERATIVA == 'B'].reset_index(drop=True)\n",
    "coop_B_originacao = base_originacao[base_originacao.COOPERATIVA == 'B'].reset_index(drop=True)"
   ]
  },
  {
   "cell_type": "code",
   "execution_count": 59,
   "metadata": {},
   "outputs": [
    {
     "data": {
      "text/html": [
       "<div>\n",
       "<style scoped>\n",
       "    .dataframe tbody tr th:only-of-type {\n",
       "        vertical-align: middle;\n",
       "    }\n",
       "\n",
       "    .dataframe tbody tr th {\n",
       "        vertical-align: top;\n",
       "    }\n",
       "\n",
       "    .dataframe thead th {\n",
       "        text-align: right;\n",
       "    }\n",
       "</style>\n",
       "<table border=\"1\" class=\"dataframe\">\n",
       "  <thead>\n",
       "    <tr style=\"text-align: right;\">\n",
       "      <th></th>\n",
       "      <th>index</th>\n",
       "      <th>COOPERATIVA</th>\n",
       "      <th>CPF</th>\n",
       "      <th>CONTA</th>\n",
       "      <th>CONTRATO</th>\n",
       "      <th>DSPRODUTO</th>\n",
       "      <th>DTCONTRATO</th>\n",
       "      <th>VLCONTRATO</th>\n",
       "      <th>VLPARCELA</th>\n",
       "      <th>QTPARCELAS</th>\n",
       "    </tr>\n",
       "  </thead>\n",
       "  <tbody>\n",
       "    <tr>\n",
       "      <th>0</th>\n",
       "      <td>6093</td>\n",
       "      <td>B</td>\n",
       "      <td>6169</td>\n",
       "      <td>80094</td>\n",
       "      <td>84353</td>\n",
       "      <td>Empréstimo</td>\n",
       "      <td>2020-09-09 00:00:00</td>\n",
       "      <td>1060.8</td>\n",
       "      <td>51.0</td>\n",
       "      <td>24.0</td>\n",
       "    </tr>\n",
       "    <tr>\n",
       "      <th>1</th>\n",
       "      <td>6094</td>\n",
       "      <td>B</td>\n",
       "      <td>7067</td>\n",
       "      <td>62338</td>\n",
       "      <td>86922</td>\n",
       "      <td>Empréstimo</td>\n",
       "      <td>2020-11-19 00:00:00</td>\n",
       "      <td>1275.0</td>\n",
       "      <td>102.0</td>\n",
       "      <td>15.0</td>\n",
       "    </tr>\n",
       "    <tr>\n",
       "      <th>2</th>\n",
       "      <td>6095</td>\n",
       "      <td>B</td>\n",
       "      <td>10408</td>\n",
       "      <td>85017</td>\n",
       "      <td>107399</td>\n",
       "      <td>Empréstimo</td>\n",
       "      <td>2021-12-20 00:00:00</td>\n",
       "      <td>642.6</td>\n",
       "      <td>30.6</td>\n",
       "      <td>48.0</td>\n",
       "    </tr>\n",
       "    <tr>\n",
       "      <th>3</th>\n",
       "      <td>6096</td>\n",
       "      <td>B</td>\n",
       "      <td>18167</td>\n",
       "      <td>75174</td>\n",
       "      <td>79627</td>\n",
       "      <td>Empréstimo</td>\n",
       "      <td>2020-04-29 00:00:00</td>\n",
       "      <td>20338.8</td>\n",
       "      <td>652.8</td>\n",
       "      <td>48.0</td>\n",
       "    </tr>\n",
       "    <tr>\n",
       "      <th>4</th>\n",
       "      <td>6097</td>\n",
       "      <td>B</td>\n",
       "      <td>19933</td>\n",
       "      <td>35678</td>\n",
       "      <td>77666</td>\n",
       "      <td>Empréstimo</td>\n",
       "      <td>2020-01-23 00:00:00</td>\n",
       "      <td>1907.4</td>\n",
       "      <td>102.0</td>\n",
       "      <td>24.0</td>\n",
       "    </tr>\n",
       "  </tbody>\n",
       "</table>\n",
       "</div>"
      ],
      "text/plain": [
       "   index COOPERATIVA    CPF  CONTA  CONTRATO   DSPRODUTO           DTCONTRATO  \\\n",
       "0   6093           B   6169  80094     84353  Empréstimo  2020-09-09 00:00:00   \n",
       "1   6094           B   7067  62338     86922  Empréstimo  2020-11-19 00:00:00   \n",
       "2   6095           B  10408  85017    107399  Empréstimo  2021-12-20 00:00:00   \n",
       "3   6096           B  18167  75174     79627  Empréstimo  2020-04-29 00:00:00   \n",
       "4   6097           B  19933  35678     77666  Empréstimo  2020-01-23 00:00:00   \n",
       "\n",
       "   VLCONTRATO  VLPARCELA  QTPARCELAS  \n",
       "0      1060.8       51.0        24.0  \n",
       "1      1275.0      102.0        15.0  \n",
       "2       642.6       30.6        48.0  \n",
       "3     20338.8      652.8        48.0  \n",
       "4      1907.4      102.0        24.0  "
      ]
     },
     "execution_count": 59,
     "metadata": {},
     "output_type": "execute_result"
    }
   ],
   "source": [
    "coop_B_originacao.head()"
   ]
  },
  {
   "cell_type": "code",
   "execution_count": 60,
   "metadata": {},
   "outputs": [],
   "source": [
    "coop_B_carteira.to_csv('~/teste_ailos/avaliacao_dados/base_files/coop_B_carteira.csv', index=False)\n",
    "coop_B_originacao.to_csv('~/teste_ailos/avaliacao_dados/base_files/coop_B_originacao.csv', index=False)"
   ]
  },
  {
   "cell_type": "code",
   "execution_count": 61,
   "metadata": {},
   "outputs": [],
   "source": [
    "max_dates = coop_B_carteira.groupby('CONTRATO')['DTBASE'].max()"
   ]
  },
  {
   "cell_type": "code",
   "execution_count": 62,
   "metadata": {},
   "outputs": [],
   "source": [
    "max_dates.to_csv('~/teste_ailos/avaliacao_dados/base_files/max_dates.csv', index=True)"
   ]
  },
  {
   "cell_type": "markdown",
   "metadata": {},
   "source": [
    "# Link para o Sumário Executivo\n",
    "\n",
    "https://datastudio.google.com/reporting/60115756-593b-4c76-ad60-483b6dc8ad08"
   ]
  }
 ],
 "metadata": {
  "kernelspec": {
   "display_name": "Python 3.10.4 64-bit",
   "language": "python",
   "name": "python3"
  },
  "language_info": {
   "codemirror_mode": {
    "name": "ipython",
    "version": 3
   },
   "file_extension": ".py",
   "mimetype": "text/x-python",
   "name": "python",
   "nbconvert_exporter": "python",
   "pygments_lexer": "ipython3",
   "version": "3.10.4"
  },
  "orig_nbformat": 4,
  "vscode": {
   "interpreter": {
    "hash": "916dbcbb3f70747c44a77c7bcd40155683ae19c65e1c03b4aa3499c5328201f1"
   }
  }
 },
 "nbformat": 4,
 "nbformat_minor": 2
}
