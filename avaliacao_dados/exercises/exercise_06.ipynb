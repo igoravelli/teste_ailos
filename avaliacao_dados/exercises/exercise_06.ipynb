{
 "cells": [
  {
   "cell_type": "code",
   "execution_count": 1,
   "metadata": {},
   "outputs": [],
   "source": [
    "import pandas as pd\n",
    "import numpy as np\n",
    "import sqlite3"
   ]
  },
  {
   "cell_type": "code",
   "execution_count": 2,
   "metadata": {},
   "outputs": [],
   "source": [
    "%run ./transform_and_create_tables.ipynb"
   ]
  },
  {
   "cell_type": "code",
   "execution_count": 3,
   "metadata": {},
   "outputs": [],
   "source": [
    "conn = sqlite3.connect('teste_ailos.db')\n",
    "\n",
    "base_originacao = pd.read_sql_query(\"SELECT * FROM base_originacao\", conn)\n",
    "base_carteira = pd.read_sql_query(\"SELECT * FROM base_carteira\", conn)"
   ]
  },
  {
   "cell_type": "code",
   "execution_count": 4,
   "metadata": {},
   "outputs": [],
   "source": [
    "%reload_ext sql\n",
    "%sql sqlite:///teste_ailos.db"
   ]
  },
  {
   "cell_type": "markdown",
   "metadata": {},
   "source": [
    "# RESOLUÇÃO DO EXERCÍCIO 06\n",
    "Com base nos dois arquivos disponibilizados (base_origincacao.csv e base_carteira.csv), crie um sumário executivo da cooperativa B, podendo fazer uso dos resultados obtidos nos exercícios anteriores."
   ]
  },
  {
   "cell_type": "code",
   "execution_count": 6,
   "metadata": {},
   "outputs": [],
   "source": [
    "coop_B_carteira = base_carteira[base_carteira.COOPERATIVA == 'B']\n",
    "coop_B_originacao = base_originacao[base_originacao.COOPERATIVA == 'B']"
   ]
  },
  {
   "cell_type": "code",
   "execution_count": 7,
   "metadata": {},
   "outputs": [],
   "source": [
    "coop_B_carteira.to_csv('~/teste_ailos/base_files/coop_B_carteira.csv', index=False)\n",
    "coop_B_originacao.to_csv('~/teste_ailos/base_files/coop_B_originacao.csv', index=False)"
   ]
  },
  {
   "cell_type": "code",
   "execution_count": null,
   "metadata": {},
   "outputs": [],
   "source": []
  }
 ],
 "metadata": {
  "kernelspec": {
   "display_name": "Python 3.10.4 64-bit",
   "language": "python",
   "name": "python3"
  },
  "language_info": {
   "codemirror_mode": {
    "name": "ipython",
    "version": 3
   },
   "file_extension": ".py",
   "mimetype": "text/x-python",
   "name": "python",
   "nbconvert_exporter": "python",
   "pygments_lexer": "ipython3",
   "version": "3.10.4"
  },
  "orig_nbformat": 4,
  "vscode": {
   "interpreter": {
    "hash": "916dbcbb3f70747c44a77c7bcd40155683ae19c65e1c03b4aa3499c5328201f1"
   }
  }
 },
 "nbformat": 4,
 "nbformat_minor": 2
}
